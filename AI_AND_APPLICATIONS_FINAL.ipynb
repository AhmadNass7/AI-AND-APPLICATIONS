{
  "nbformat": 4,
  "nbformat_minor": 0,
  "metadata": {
    "colab": {
      "provenance": [],
      "authorship_tag": "ABX9TyPClTlQnfzbqXQP2E651hto",
      "include_colab_link": true
    },
    "kernelspec": {
      "name": "python3",
      "display_name": "Python 3"
    },
    "language_info": {
      "name": "python"
    }
  },
  "cells": [
    {
      "cell_type": "markdown",
      "metadata": {
        "id": "view-in-github",
        "colab_type": "text"
      },
      "source": [
        "<a href=\"https://colab.research.google.com/github/AhmadNass7/Gisma/blob/main/AI_AND_APPLICATIONS_FINAL.ipynb\" target=\"_parent\"><img src=\"https://colab.research.google.com/assets/colab-badge.svg\" alt=\"Open In Colab\"/></a>"
      ]
    },
    {
      "cell_type": "markdown",
      "source": [
        "**A brief summary of the Data Set that has been collected here:**\n",
        "\n",
        "* **This Data Set basically discusses the prices of cars in germany according to its mileage, year issued, model , type, type of transmission, horsepower,  and whether it is used or new.**\n",
        "\n",
        "* **This Data Set is taken from kaggle , a well known site that contains alot of Data Sets.**\n",
        "\n",
        "\n",
        "* ANDER (2021) Germany Cars Dataset, Available at: https://www.kaggle.com/datasets/ander289386/cars-germany (Accessed: 20 march 2023).\n"
      ],
      "metadata": {
        "id": "qA7yQs4nghpK"
      }
    },
    {
      "cell_type": "markdown",
      "source": [
        "**Implementing specific Libraries to be able to run our codes accurately**"
      ],
      "metadata": {
        "id": "8MFUlF5jiVH7"
      }
    },
    {
      "cell_type": "markdown",
      "source": [
        "## Importing Libraries"
      ],
      "metadata": {
        "id": "Bl8l6qGPi1b1"
      }
    },
    {
      "cell_type": "code",
      "source": [
        "import pandas as pd\n",
        "import matplotlib.pyplot as AN\n",
        "import seaborn as MSN\n",
        "from matplotlib.pyplot import cm\n",
        "import numpy as np\n",
        "\n",
        "\n",
        "\n"
      ],
      "metadata": {
        "id": "1lduZeoti7qJ"
      },
      "execution_count": null,
      "outputs": []
    },
    {
      "cell_type": "markdown",
      "source": [
        "**Uploading the given Data Set about car prices in germany, and printing the first 5 samples**"
      ],
      "metadata": {
        "id": "w1yhHqwkiiG8"
      }
    },
    {
      "cell_type": "markdown",
      "source": [
        "## Loading the Data Set"
      ],
      "metadata": {
        "id": "3Sp_ih7XjFH4"
      }
    },
    {
      "cell_type": "code",
      "source": [
        "df=pd.read_csv(\"carprices.csv\")\n",
        "df.head()"
      ],
      "metadata": {
        "colab": {
          "base_uri": "https://localhost:8080/",
          "height": 206
        },
        "id": "6za9aOTMjWuQ",
        "outputId": "98fec9c4-723e-4e1f-bad8-52d60d45ed69"
      },
      "execution_count": null,
      "outputs": [
        {
          "output_type": "execute_result",
          "data": {
            "text/plain": [
              "    mileage        make   model      fuel    gear offerType  price     hp  \\\n",
              "0  235000.0         BMW     316    Diesel  Manual      Used   6800  116.0   \n",
              "1   92800.0  Volkswagen    Golf  Gasoline  Manual      Used   6877  122.0   \n",
              "2  149300.0        SEAT    Exeo  Gasoline  Manual      Used   6900  160.0   \n",
              "3   96200.0     Renault  Megane  Gasoline  Manual      Used   6950  110.0   \n",
              "4  156000.0     Peugeot     308  Gasoline  Manual      Used   6950  156.0   \n",
              "\n",
              "   year  \n",
              "0  2011  \n",
              "1  2011  \n",
              "2  2011  \n",
              "3  2011  \n",
              "4  2011  "
            ],
            "text/html": [
              "\n",
              "  <div id=\"df-207d9a87-913b-4e79-88c6-78fbabdad473\">\n",
              "    <div class=\"colab-df-container\">\n",
              "      <div>\n",
              "<style scoped>\n",
              "    .dataframe tbody tr th:only-of-type {\n",
              "        vertical-align: middle;\n",
              "    }\n",
              "\n",
              "    .dataframe tbody tr th {\n",
              "        vertical-align: top;\n",
              "    }\n",
              "\n",
              "    .dataframe thead th {\n",
              "        text-align: right;\n",
              "    }\n",
              "</style>\n",
              "<table border=\"1\" class=\"dataframe\">\n",
              "  <thead>\n",
              "    <tr style=\"text-align: right;\">\n",
              "      <th></th>\n",
              "      <th>mileage</th>\n",
              "      <th>make</th>\n",
              "      <th>model</th>\n",
              "      <th>fuel</th>\n",
              "      <th>gear</th>\n",
              "      <th>offerType</th>\n",
              "      <th>price</th>\n",
              "      <th>hp</th>\n",
              "      <th>year</th>\n",
              "    </tr>\n",
              "  </thead>\n",
              "  <tbody>\n",
              "    <tr>\n",
              "      <th>0</th>\n",
              "      <td>235000.0</td>\n",
              "      <td>BMW</td>\n",
              "      <td>316</td>\n",
              "      <td>Diesel</td>\n",
              "      <td>Manual</td>\n",
              "      <td>Used</td>\n",
              "      <td>6800</td>\n",
              "      <td>116.0</td>\n",
              "      <td>2011</td>\n",
              "    </tr>\n",
              "    <tr>\n",
              "      <th>1</th>\n",
              "      <td>92800.0</td>\n",
              "      <td>Volkswagen</td>\n",
              "      <td>Golf</td>\n",
              "      <td>Gasoline</td>\n",
              "      <td>Manual</td>\n",
              "      <td>Used</td>\n",
              "      <td>6877</td>\n",
              "      <td>122.0</td>\n",
              "      <td>2011</td>\n",
              "    </tr>\n",
              "    <tr>\n",
              "      <th>2</th>\n",
              "      <td>149300.0</td>\n",
              "      <td>SEAT</td>\n",
              "      <td>Exeo</td>\n",
              "      <td>Gasoline</td>\n",
              "      <td>Manual</td>\n",
              "      <td>Used</td>\n",
              "      <td>6900</td>\n",
              "      <td>160.0</td>\n",
              "      <td>2011</td>\n",
              "    </tr>\n",
              "    <tr>\n",
              "      <th>3</th>\n",
              "      <td>96200.0</td>\n",
              "      <td>Renault</td>\n",
              "      <td>Megane</td>\n",
              "      <td>Gasoline</td>\n",
              "      <td>Manual</td>\n",
              "      <td>Used</td>\n",
              "      <td>6950</td>\n",
              "      <td>110.0</td>\n",
              "      <td>2011</td>\n",
              "    </tr>\n",
              "    <tr>\n",
              "      <th>4</th>\n",
              "      <td>156000.0</td>\n",
              "      <td>Peugeot</td>\n",
              "      <td>308</td>\n",
              "      <td>Gasoline</td>\n",
              "      <td>Manual</td>\n",
              "      <td>Used</td>\n",
              "      <td>6950</td>\n",
              "      <td>156.0</td>\n",
              "      <td>2011</td>\n",
              "    </tr>\n",
              "  </tbody>\n",
              "</table>\n",
              "</div>\n",
              "      <button class=\"colab-df-convert\" onclick=\"convertToInteractive('df-207d9a87-913b-4e79-88c6-78fbabdad473')\"\n",
              "              title=\"Convert this dataframe to an interactive table.\"\n",
              "              style=\"display:none;\">\n",
              "        \n",
              "  <svg xmlns=\"http://www.w3.org/2000/svg\" height=\"24px\"viewBox=\"0 0 24 24\"\n",
              "       width=\"24px\">\n",
              "    <path d=\"M0 0h24v24H0V0z\" fill=\"none\"/>\n",
              "    <path d=\"M18.56 5.44l.94 2.06.94-2.06 2.06-.94-2.06-.94-.94-2.06-.94 2.06-2.06.94zm-11 1L8.5 8.5l.94-2.06 2.06-.94-2.06-.94L8.5 2.5l-.94 2.06-2.06.94zm10 10l.94 2.06.94-2.06 2.06-.94-2.06-.94-.94-2.06-.94 2.06-2.06.94z\"/><path d=\"M17.41 7.96l-1.37-1.37c-.4-.4-.92-.59-1.43-.59-.52 0-1.04.2-1.43.59L10.3 9.45l-7.72 7.72c-.78.78-.78 2.05 0 2.83L4 21.41c.39.39.9.59 1.41.59.51 0 1.02-.2 1.41-.59l7.78-7.78 2.81-2.81c.8-.78.8-2.07 0-2.86zM5.41 20L4 18.59l7.72-7.72 1.47 1.35L5.41 20z\"/>\n",
              "  </svg>\n",
              "      </button>\n",
              "      \n",
              "  <style>\n",
              "    .colab-df-container {\n",
              "      display:flex;\n",
              "      flex-wrap:wrap;\n",
              "      gap: 12px;\n",
              "    }\n",
              "\n",
              "    .colab-df-convert {\n",
              "      background-color: #E8F0FE;\n",
              "      border: none;\n",
              "      border-radius: 50%;\n",
              "      cursor: pointer;\n",
              "      display: none;\n",
              "      fill: #1967D2;\n",
              "      height: 32px;\n",
              "      padding: 0 0 0 0;\n",
              "      width: 32px;\n",
              "    }\n",
              "\n",
              "    .colab-df-convert:hover {\n",
              "      background-color: #E2EBFA;\n",
              "      box-shadow: 0px 1px 2px rgba(60, 64, 67, 0.3), 0px 1px 3px 1px rgba(60, 64, 67, 0.15);\n",
              "      fill: #174EA6;\n",
              "    }\n",
              "\n",
              "    [theme=dark] .colab-df-convert {\n",
              "      background-color: #3B4455;\n",
              "      fill: #D2E3FC;\n",
              "    }\n",
              "\n",
              "    [theme=dark] .colab-df-convert:hover {\n",
              "      background-color: #434B5C;\n",
              "      box-shadow: 0px 1px 3px 1px rgba(0, 0, 0, 0.15);\n",
              "      filter: drop-shadow(0px 1px 2px rgba(0, 0, 0, 0.3));\n",
              "      fill: #FFFFFF;\n",
              "    }\n",
              "  </style>\n",
              "\n",
              "      <script>\n",
              "        const buttonEl =\n",
              "          document.querySelector('#df-207d9a87-913b-4e79-88c6-78fbabdad473 button.colab-df-convert');\n",
              "        buttonEl.style.display =\n",
              "          google.colab.kernel.accessAllowed ? 'block' : 'none';\n",
              "\n",
              "        async function convertToInteractive(key) {\n",
              "          const element = document.querySelector('#df-207d9a87-913b-4e79-88c6-78fbabdad473');\n",
              "          const dataTable =\n",
              "            await google.colab.kernel.invokeFunction('convertToInteractive',\n",
              "                                                     [key], {});\n",
              "          if (!dataTable) return;\n",
              "\n",
              "          const docLinkHtml = 'Like what you see? Visit the ' +\n",
              "            '<a target=\"_blank\" href=https://colab.research.google.com/notebooks/data_table.ipynb>data table notebook</a>'\n",
              "            + ' to learn more about interactive tables.';\n",
              "          element.innerHTML = '';\n",
              "          dataTable['output_type'] = 'display_data';\n",
              "          await google.colab.output.renderOutput(dataTable, element);\n",
              "          const docLink = document.createElement('div');\n",
              "          docLink.innerHTML = docLinkHtml;\n",
              "          element.appendChild(docLink);\n",
              "        }\n",
              "      </script>\n",
              "    </div>\n",
              "  </div>\n",
              "  "
            ]
          },
          "metadata": {},
          "execution_count": 71
        }
      ]
    },
    {
      "cell_type": "markdown",
      "source": [
        "**In the below text, I cleaned the Data Set by  printing unique values for each column to check for implicit missing values.**\n"
      ],
      "metadata": {
        "id": "AbG4u7fGyuiz"
      }
    },
    {
      "cell_type": "code",
      "source": [
        "print(df[\"mileage\"].unique(),\"\\n\")\n",
        "\n",
        "print(df[\"make\"].unique(),\"\\n\")\n",
        "\n",
        "print(df[\"model\"].unique(),\"\\n\")\n",
        "\n",
        "print(df[\"fuel\"].unique(),\"\\n\")\n",
        "\n",
        "print(df[\"gear\"].unique(),\"\\n\")\n",
        "\n",
        "print(df[\"offerType\"].unique(),\"\\n\")\n",
        "\n",
        "print(df[\"price\"].unique(),\"\\n\")\n",
        "\n",
        "print(df[\"hp\"].unique(),\"\\n\")\n",
        "\n",
        "print(df[\"year\"].unique(),\"\\n\")\n",
        "\n"
      ],
      "metadata": {
        "colab": {
          "base_uri": "https://localhost:8080/"
        },
        "id": "ew9uO2UekoLn",
        "outputId": "206988cb-f262-48ea-ed1a-df89b451999c"
      },
      "execution_count": null,
      "outputs": [
        {
          "output_type": "stream",
          "name": "stdout",
          "text": [
            "[235000.  92800. 149300. ...    550.    837.     nan] \n",
            "\n",
            "['BMW' 'Volkswagen' 'SEAT' 'Renault' 'Peugeot' 'Toyota' 'Opel' 'Mazda'\n",
            " 'Ford' 'Mercedes-Benz' 'Chevrolet' 'Audi' 'Fiat' 'Kia' 'Dacia' 'MINI'\n",
            " 'Hyundai' 'Skoda' 'Citroen' 'Infiniti' 'Suzuki' 'SsangYong' 'smart'\n",
            " 'Cupra' 'Volvo' 'Jaguar' 'Porsche' 'Nissan' 'Honda' 'Lada' 'Mitsubishi'\n",
            " 'Others' 'Lexus' 'Jeep' 'Maserati' 'Bentley' 'Land' 'Alfa' 'Subaru'\n",
            " 'Dodge' 'Microcar' 'Lamborghini' 'Baic' 'Tesla' 'Chrysler' '9ff'\n",
            " 'McLaren' 'Aston' 'Rolls-Royce' 'Alpine' 'Lancia' 'Abarth' 'DS'\n",
            " 'Daihatsu' 'Ligier' 'Ferrari' 'Caravans-Wohnm' 'Aixam' 'Piaggio' 'Zhidou'\n",
            " 'Morgan' 'Maybach' 'Tazzari' 'Trucks-Lkw' 'RAM' 'Iveco' 'DAF' 'Alpina'\n",
            " 'Polestar' 'Brilliance' 'FISKER' 'Cadillac' 'Trailer-Anhänger' 'Isuzu'\n",
            " 'Corvette' 'DFSK' 'Estrima'] \n",
            "\n",
            "['316' 'Golf' 'Exeo' 'Megane' '308' 'Auris' 'Scenic' 'Zafira' '3'\n",
            " 'Transit' 'Meriva' 'E 250' 'Orlando' 'A4' 'Polo' 'Espace' 'Grand Espace'\n",
            " 'Sedici' 'Corsa' 'Picanto' 'Duster' 'Cross Touran' 'Beetle'\n",
            " 'Golf Cabriolet' '118' 'Astra' 'Focus' 'One D Countryman'\n",
            " 'Cooper Clubman' 'B 180' 'Insignia' 'One' '320' 'iX35' 'Adam' '520'\n",
            " 'B-Max' 'Golf Variant' 'Touran' 'Optima' '114' 'Galaxy' 'Leon' 'A1'\n",
            " 'Trax' 'Verso' 'Golf Plus' 'Fiesta' 'Vivaro' 'Yaris' 'iX20' 'up!'\n",
            " 'Rapid/Spaceback' '116' 'Passat Variant' \"Ceed / cee'd\" 'Fabia' 'Ibiza'\n",
            " 'C-Max' 'Boxer' 'Superb' 'C4 Cactus' '208' 'Q70' 'Swift' 'Korando'\n",
            " 'Sandero' '2' 'Sorento' 'GLC 220' 'A6' 'E 400' 'forTwo' 'Mii' 'Citigo'\n",
            " 'Aygo' 'Punto' 'i10' 'forFour' 'A6 allroad' 'A4 allroad' 'GLC 250' 'Q2'\n",
            " 'Tiguan' 'Ateca' 'Amarok' 'Q5' 'SQ5' 'Q7' 'M2' 'XC90' 'X3' 'X2' 'T-Roc'\n",
            " 'Vito' 'Kuga' 'Karoq' 'GLA 250' 'Alhambra' 'RS Q3' 'TT RS' 'F-Type'\n",
            " 'Macan' 'Touareg' 'A7' 'S5' 'T6 California' 'Q8' 'Panda' '508' 'Qashqai'\n",
            " 'Civic' 'Passat' 'Avensis' 'Octavia' 'Grand Scenic' 'Altea' 'Mondeo'\n",
            " 'Jetta' 'i40' 'Grand C4 Picasso' '2008' 'SX4' 'Jazz' 'i20' 'Yeti'\n",
            " 'Roomster' 'Venga' 'DS3' 'Captur' 'Clio' 'C4' 'Rio' 'Scudo' 'Pulsar'\n",
            " 'Caddy' 'ZOE' 'C3' 'Citan' 'Micra' 'Twingo' 'Ka/Ka+' 'Vesta' 'Space Star'\n",
            " '500' 'Eclipse Cross' 'Grandland X' 'XF' 'Passat Alltrack' nan 'Combo'\n",
            " 'E 300' 'E 450' 'RX 450h' 'XC60' 'RS3' 'CLS 350' 'F-Pace' 'Arona'\n",
            " 'EcoSport' 'Puma' 'i30' 'Note' '206' '207' 'A3' 'Doblo'\n",
            " \"Ceed SW / cee'd SW\" 'Grande Punto' 'E 200' 'Logan' 'Punto Evo' 'Mokka'\n",
            " '330' 'S-Max' 'Transit Custom' '530' 'GLA 180' 'A 160' '430' '535'\n",
            " 'T6 Multivan' 'E 220' 'C 250' 'C 300' 'A 45 AMG' 'S3' 'GLC 350'\n",
            " 'V90 Cross Country' 'V 220' 'A5' 'Edge' 'V60' 'Golf GTI' 'Ioniq' 'C 220'\n",
            " 'Camry' 'Tucson' 'Talisman' 'T6.1 Transporter' 'CX-30' 'Crossland X'\n",
            " 'Tourneo Custom' 'Compass' 'Formentor' '5008' 'Ranger' 'Spacetourer'\n",
            " 'A 180' 'Alto' 'Cruze' '108' 'Phaeton' 'GLE 350' 'S4' 'GranTurismo'\n",
            " 'Continental' 'Zafira Tourer' 'Kona' 'Cooper D' '218' 'C-HR' 'Cooper S'\n",
            " 'A8' 'SQ7' 'RS' 'E 53 AMG' 'Cayenne' 'GLS 500' 'XC40' 'Kodiaq' 'CX-5'\n",
            " 'Arteon' 'Sharan' '3008' 'ID.3' 'V 300' 'V 250' 'T6.1 Multivan' 'S60'\n",
            " 'T6.1 California' 'GLC 43 AMG' 'NV200' 'Grand C-Max' 'Veloster' 'S40'\n",
            " 'Antara' 'Crafter' 'Scirocco' 'ASX' 'V40' '220' '500C' 'Partner' 'Carens'\n",
            " 'iOn' 'C1' 'Express' 'Stonic' 'Colt' 'Spark' 'Transit Connect' 'Berlingo'\n",
            " 'New Panda' 'i3' 'Rover Range Rover Evoque' 'Rover Discovery Sport' '335'\n",
            " 'V60 Cross Country' 'CLA 200' 'Cooper S Countryman' 'Cascada'\n",
            " 'SX4 S-Cross' 'Cooper' '318' 'One Countryman' 'One Cabrio' '6' 'Prius'\n",
            " 'Scala' 'GT86' 'RAV 4' 'Corolla' 'Q3' 'X1' 'Navara' 'Tarraco' '5'\n",
            " 'Verso-S' 'V50' 'Trafic' 'Altea XL' 'C3 Picasso' 'One D' 'Tivoli' 'Tipo'\n",
            " 'Transit Courier' 'Karl' '500L' 'MX-30' 'Juke' 'Captiva' 'B 160' 'CX-7'\n",
            " 'Romeo Giulietta' 'Cooper D Clubman' 'Kangoo' 'C5' 'Mokka X' 'CX-3' 'V90'\n",
            " 'X6' '730' '550' 'Rover Discovery' '650' 'Koleos' 'A 250' '525' 'C 200'\n",
            " 'Kadjar' 'DS5' '4008' 'Golf Sportsvan' 'Sprinter' 'Forester' 'Toledo'\n",
            " 'E 350' 'CLA 250' 'RS5' 'e-tron' 'RS4' 'Challenger' 'Rover Range Rover'\n",
            " 'RS6' 'RS7' 'Polo GTI' 'Freemont' 'Qashqai+2' '325' 'C4 Aircross'\n",
            " 'C-Elysée' 'Due' 'T-Cross' 'EQC 400' 'GLA 45 AMG'\n",
            " 'Rover Range Rover Velar' 'GLE 400' 'S 350' 'Aveo' 'Splash' 'Aventador'\n",
            " 'Rover Range Rover Sport' 'C 43 AMG' 'C 63 AMG' 'E 43 AMG' 'X6 M'\n",
            " 'Wrangler' 'B 200' 'Soul' 'S90' 'Santa Fe' 'Zafira Life' 'Twizy'\n",
            " 'Stinger' '540' 'GLC 300' 'GLC 63 AMG' 'Sportage' 'IS 300' 'AMG GT'\n",
            " 'X7 M' 'S 63 AMG' 'Dokker' 'GLB 200' 'Cayman' 'Panamera' 'R8' 'Vitara'\n",
            " 'C70' 'Eos' 'Jumper' '120' 'Tourneo Courier' 'C4 Picasso' '420' '140'\n",
            " 'John Cooper Works Countryman' 'S6' 'V40 Cross Country' 'Grand Cherokee'\n",
            " 'Supra' 'Mustang' '340' 'Rover Defender' 'NX 300' 'Enyaq' 'M8' '911'\n",
            " 'T5 Transporter' 'Tourneo Connect' 'XV' 'C 180' 'Accord' 'DS4' 'Pointer'\n",
            " 'Kalina' 'C 400' 'Model 3' 'GLC 200' 'Passat CC' 'Outlander' 'CR-V'\n",
            " 'Grand Voyager' '216' 'Celerio' 'X2 M' 'RS Q8' 'CC' 'Laguna' 'Cross Golf'\n",
            " 'Renegade' 'Jumpy' 'E 63 AMG' 'Model X' '991' '570S' 'Martin Vantage'\n",
            " 'Ghost' 'Levante' 'M5' 'E-Pace' 'T6 Caravelle' 'GLB 250' 'Bipper'\n",
            " 'John Cooper Works' 'MX-5' 'A 200' '418' 'TT' '135' \"ProCeed / pro_cee'd\"\n",
            " 'XCeed' 'Cooper SE' 'Cooper Countryman' 'Cooper D Cabrio' 'Modus'\n",
            " 'Fusion' 'Romeo MiTo' 'C30' 'Master' '440' '240' 'SLC 200' 'Explorer'\n",
            " 'X5' 'Martin V8' 'Ignis' 'C3 Aircross' 'Kamiq' 'Latitude' 'Ducato'\n",
            " 'Lodgy' 'Legacy' 'Rover Freelander' 'Jimny' 'Nitro'\n",
            " 'Cooper SD Countryman' 'Voyager' 'Leaf' '500X' 'SQ8' 'Automobiles DS 4'\n",
            " 'S80' 'Romeo Giulia' 'REXTON' 'Romeo Stelvio' 'Baleno' '595 Competizione'\n",
            " 'Gladiator' '107' 'Sirion' 'Crossland' 'ES 300' 'Ghibli' 'Lancer' 'Bravo'\n",
            " '740' '750' 'S 560' 'M4' 'M3' 'Z4' 'X3 M' 'X4 M' 'Niro' 'Arkana'\n",
            " 'Urban Cruiser' 'Thema' 'Grand Tourneo' 'XLV' 'Kizashi' 'iQ' 'T6 Kombi'\n",
            " 'GLE 450' '328' '125' 'Taiga' 'CR-Z' 'C4 SpaceTourer' 'JS 50'\n",
            " 'T6 Transporter' 'S 500' 'Quattroporte' 'F8 Tributo' '720S' 'Romeo 4C'\n",
            " 'i8' 'A 35 AMG' 'X4' 'Traveller' 'CLA 220' 'Niva' 'City'\n",
            " 'John Cooper Works Coupe' 'Movano' 'C 350' 'Agila' 'Automobiles DS 3'\n",
            " 'Proace' '500e' 'Cooper SD Cabrio' 'Fiorino' 'Evalia' 'H-1' 'GLA 220'\n",
            " 'Cooper Cabrio' 'OUTBACK' '301' 'C15' 'A 220' 'Ape' 'C5 Aircross' 'Bayon'\n",
            " 'Golf GTE' 'LS 500' 'Tourneo' 'Cooper SD' 'CT 200h' 'XE' '807'\n",
            " 'One Clubman' '640' 'CLA 180' 'One D Clubman' 'Cooper D Countryman' '595'\n",
            " 'T5 Kombi' '528' 'GLK 220' '595 Turismo' 'I-Pace' 'Charger' 'GLE 63 AMG'\n",
            " 'GT' 'D2S' 'Prius+' '523' 'GS 450h' 'RCZ' 'GLA 200' 'X5 M' 'Marco Polo'\n",
            " '3-Wheeler' 'Cooper S Coupe' 'Cooper Coupe' 'Cooper Paceman' 'V70' '840'\n",
            " 'G 63 AMG' 'Pullman' 'S 650' 'Cooper S Cabrio' 'Grand Vitara' 'T5' 'CLS'\n",
            " 'GLK 250' 'T5 Caravelle' 'Viano' 'Cooper SD Paceman' 'M.Go' 'Qubo'\n",
            " 'Camaro' '370Z' 'Ampera' 'X-Trail' 'CLA 45 AMG' 'HR-V' 'GLE 43 AMG'\n",
            " 'UX 250h' 'Murano' 'Delta' 'Cooper D Paceman' 'Grand C4 SpaceTourer'\n",
            " 'T4 Allstar' 'MUSSO' 'Talento' '214' 'E 500' 'ML 250' 'T5 California'\n",
            " 'S 400' '760' 'SLK 200' 'T5 Multivan' 'B 250' 'GLK 200' 'B 220' 'Expert'\n",
            " 'Punto EVO' 'EV Zero Classic' 'Ford' '230' 'Cooper SD Clubman'\n",
            " 'Primastar' 'brabus' 'Cherokee' 'Cooper Roadster' 'Cooper S Roadster'\n",
            " '225' 'T5 Shuttle' 'Automobiles DS 5' '1500' 'Trezia' 'CLS 500' 'XKR'\n",
            " '997' 'ML 350' 'GLK 350' 'GL 350' 'GS 250' 'RAM' '518' 'New Beetle'\n",
            " 'Kangoo Z.E.' '488' 'Z4 M' '235' 'Boxster' 'C8' 'Model S' 'XK' 'Pixo'\n",
            " 'Priora' 'CLC' 'S1' 'SLK 250' '435' 'R 350' 'Cooper S Paceman' 'C6'\n",
            " 'CLS 250' '812' 'FF' 'B3' '300C' '123' 'Aspen' 'G' 'E-NV200' 'Bentayga'\n",
            " 'Wind' 'G 350' 'G 500' 'CL 500' 'SLS' 'XJ' '407' 'Romeo Sportwagon' 'BS4'\n",
            " 'Impreza' '428' 'Grand Caravan' 'Cooper SD Coupe' 'CLS 63 AMG' 'LS 600'\n",
            " 'Fox' 'Cooper S Clubman' '300' 'M6' '595C' 'F12' '695' 'Cuore' 'Porter'\n",
            " 'Caliber' 'Karma' 'Gallardo' 'S60 Cross Country' 'Praktik'\n",
            " 'John Cooper Works Clubman' 'LC 500' '323' 'GL 63 AMG' 'SLC 300' 'Rodius'\n",
            " 'Pajero' 'CLS 220' 'D3' 'S8' 'Journey' 'Linea' 'Grand Santa Fe'\n",
            " 'Landwind' 'TTS' 'Swace' 'Clubvan' 'RC 300h' 'Roadster' 'V 200' 'UX 200'\n",
            " 'Grand Modus' 'GLS 400' 'Wraith' 'Q30' 'Mokka-E' 'XT4' 'SL 500' 'GLS 350'\n",
            " 'SL 350' 'M850' 'Automobiles DS 3 Crossback' 'ID.4' 'Huracan' 'Mirai'\n",
            " 'Alaskan' 'NP300' 'I-MiEV' 'Charade' 'Daily' 'Ypsilon'\n",
            " 'city-coupé/city-cabrio' 'Fullback' 'Martin Rapide' 'Viper' '675LT'\n",
            " 'MUSA' 'S 600' 'Polo Cross' 'Terios' 'Automobiles DS 7 Crossback'\n",
            " 'SLK 300' 'S7' 'Eclipse' 'Romeo 159' 'Transporter' 'X7' 'Land Cruiser'\n",
            " 'Highlander' 'SLC 250' 'C-Zero' 'CLS 400' 'Insight' 'LX 570'\n",
            " 'Martin DB11' 'Urus' 'Transit Bus' 'Q60' 'GLB 180' 'SLC 180' 'Nemo'\n",
            " 'NV300' 'Getz' 'Mulsanne' 'EX30' 'Carnival' 'ML 300' 'Hilux' 'R 300'\n",
            " 'Malibu' 'Pathfinder' 'MP4-12C' 'Volt' '250' 'D-Max' 'ATS' '458' 'Granta'\n",
            " 'Town & Country' 'Q50' 'Adria' 'GLE 500' 'Dart' 'Genesis' 'XC70' 'Rapid'\n",
            " 'Odyssey' 'B7' 'CTS' 'Z06' 'NSX' '124 Spider' 'Martin' 'GLE 250' 'B5'\n",
            " 'Senova X35' 'BJ20' 'Pacifica' 'Durango' 'C7' 'GranCabrio' 'M1' '630'\n",
            " 'Romeo Quadrifoglio' 'CLS 450' 'Flex' 'F 150' 'Silverado' '600LT' '992'\n",
            " 'Glory 580' 'XD3' 'G 400' 'Birò' 'Rifter' 'Levorg' 'Across' 'Taycan'\n",
            " 'Martin DBX' 'Flying Spur' 'S 450' 'e' 'Kona Elektro' 'GLS 600' 'GLB 220'\n",
            " 'Alpine A110' 'EQV 300' 'S 260' 'e-Niro' 'A110' 'iX3' 'NV250'] \n",
            "\n",
            "['Diesel' 'Gasoline' 'Electric/Gasoline' '-/- (Fuel)' 'Electric'\n",
            " 'Electric/Diesel' 'CNG' 'LPG' 'Others' 'Hydrogen' 'Ethanol'] \n",
            "\n",
            "['Manual' 'Automatic' nan 'Semi-automatic'] \n",
            "\n",
            "['Used' 'Demonstration' \"Employee's car\" 'Pre-registered' 'New'] \n",
            "\n",
            "[ 6800  6877  6900 ... 10140 11805 12805] \n",
            "\n",
            "[116. 122. 160. 110. 156.  99. 131. 150.  86. 101. 105. 204. 141. 120.\n",
            "  60. 135. 143. 140. 163. 179. 125.  90. 109.  98. 184. 102. 126.  80.\n",
            " 136. 190. 170.  94. 178.  69.  87. 200. 252. 333.  71.  67.  95.  75.\n",
            " 272. 218. 231. 239. 300. 224. 320. 354. 286. 370. 235. 265. 211. 367.\n",
            " 400. 381. 245. 347. 340.  72.  84. 117. 132. 124.  82.  92. 128.  58.\n",
            "  73. 106. 182. 326.  38. 194. 313. 392. 199. 551.  54.  88.  61.  68.\n",
            "  97.  77.  nan 258. 155. 349. 310. 254. 220. 209. 250. 177. 238. 114.\n",
            " 280. 230. 185. 181. 212. 111. 334. 460. 635. 192. 435. 450. 421. 455.\n",
            " 165. 237. 360. 408. 341. 253. 390. 145. 166.  83.  91. 175. 147. 152.\n",
            "  76.  65. 167. 173. 118. 462. 306. 449. 188. 717. 510. 600.   5. 121.\n",
            " 197. 330. 262. 700. 476. 401. 575. 159. 151.  11. 223. 612. 241. 441.\n",
            " 457. 480. 560. 557. 598. 620. 129. 174. 207. 374. 292. 249. 299. 625.\n",
            " 650. 420. 549. 513. 144. 287. 186.  20. 303. 571. 562. 570. 446. 430.\n",
            " 201. 363. 275. 260. 203. 264. 337.  48. 394. 469. 605. 405. 205.  56.\n",
            " 107. 366. 581. 721. 770. 261.   8. 404. 325. 411.   1. 417. 530. 215.\n",
            " 242. 585. 158.  24. 345. 610. 133. 630.  18. 387. 351. 500. 453. 328.\n",
            " 222. 290. 639. 305. 213. 609. 733. 256. 169. 148. 352. 525. 669. 385.\n",
            " 426. 315. 517. 555. 294. 799. 659. 409. 375. 680. 219. 271. 431. 519.\n",
            " 548. 507. 445. 772. 416. 288. 775. 196. 309. 226. 468.  10. 464. 751.\n",
            "  42. 189. 503. 281.  79. 171. 103. 632. 279. 544. 591. 113. 273. 154.\n",
            " 559. 649. 674. 317. 247. 359. 740. 540. 428.  12. 706. 339.  41.  63.\n",
            "   7. 243. 398. 276.  64. 364. 572. 670. 283. 362. 608. 642. 604.  52.\n",
            " 532. 314. 291. 481. 521. 193. 355. 850. 767.  16.   3. 487. 321. 389.\n",
            " 795. 461. 318. 344. 771. 489. 566.] \n",
            "\n",
            "[2011 2012 2013 2014 2015 2016 2017 2018 2019 2020 2021] \n",
            "\n"
          ]
        }
      ]
    },
    {
      "cell_type": "markdown",
      "source": [
        "**Removing the 'Fuel column' since it shows a missing value **"
      ],
      "metadata": {
        "id": "VXQ8Mclsiymn"
      }
    },
    {
      "cell_type": "code",
      "source": [
        "df = df[df['fuel'] != '-/- (Fuel)']"
      ],
      "metadata": {
        "id": "d9NLFKlaTp6J"
      },
      "execution_count": null,
      "outputs": []
    },
    {
      "cell_type": "markdown",
      "source": [
        "**Checking and dropping 0 values that is shown in the Data Set by using 'Dropna' function to be able to analayze the Data Set correctly.**"
      ],
      "metadata": {
        "id": "5g6RL_T7jA3S"
      }
    },
    {
      "cell_type": "code",
      "source": [
        "df= df.dropna()\n",
        "\n",
        "df.isnull().sum()\n"
      ],
      "metadata": {
        "colab": {
          "base_uri": "https://localhost:8080/"
        },
        "id": "ffLkRvmuo9Q6",
        "outputId": "5cbd67fe-4cf2-4878-96f3-25c74db293b7"
      },
      "execution_count": null,
      "outputs": [
        {
          "output_type": "execute_result",
          "data": {
            "text/plain": [
              "mileage      0\n",
              "make         0\n",
              "model        0\n",
              "fuel         0\n",
              "gear         0\n",
              "offerType    0\n",
              "price        0\n",
              "hp           0\n",
              "year         0\n",
              "dtype: int64"
            ]
          },
          "metadata": {},
          "execution_count": 74
        }
      ]
    },
    {
      "cell_type": "markdown",
      "source": [
        "**It is shown here that, i printed the description of the Data Set stating its mean, std, min ,and max.**"
      ],
      "metadata": {
        "id": "aDdSyUjhz24S"
      }
    },
    {
      "cell_type": "code",
      "source": [
        "df.describe()"
      ],
      "metadata": {
        "colab": {
          "base_uri": "https://localhost:8080/",
          "height": 300
        },
        "id": "sg2tXciwp1Kq",
        "outputId": "764797f0-56ec-417f-ea7f-730f2b23183b"
      },
      "execution_count": null,
      "outputs": [
        {
          "output_type": "execute_result",
          "data": {
            "text/plain": [
              "            mileage         price            hp          year\n",
              "count  4.604800e+04  4.604800e+04  46048.000000  46048.000000\n",
              "mean   7.122982e+04  1.656384e+04    132.986992   2016.012378\n",
              "std    6.245745e+04  1.928020e+04     75.034784      3.155729\n",
              "min    0.000000e+00  1.100000e+03      1.000000   2011.000000\n",
              "25%    1.988900e+04  7.490000e+03     86.000000   2013.000000\n",
              "50%    6.000000e+04  1.100000e+04    116.000000   2016.000000\n",
              "75%    1.050000e+05  1.949000e+04    150.000000   2019.000000\n",
              "max    1.111111e+06  1.199900e+06    850.000000   2021.000000"
            ],
            "text/html": [
              "\n",
              "  <div id=\"df-7028db9b-038b-4081-a058-e3e84af947d9\">\n",
              "    <div class=\"colab-df-container\">\n",
              "      <div>\n",
              "<style scoped>\n",
              "    .dataframe tbody tr th:only-of-type {\n",
              "        vertical-align: middle;\n",
              "    }\n",
              "\n",
              "    .dataframe tbody tr th {\n",
              "        vertical-align: top;\n",
              "    }\n",
              "\n",
              "    .dataframe thead th {\n",
              "        text-align: right;\n",
              "    }\n",
              "</style>\n",
              "<table border=\"1\" class=\"dataframe\">\n",
              "  <thead>\n",
              "    <tr style=\"text-align: right;\">\n",
              "      <th></th>\n",
              "      <th>mileage</th>\n",
              "      <th>price</th>\n",
              "      <th>hp</th>\n",
              "      <th>year</th>\n",
              "    </tr>\n",
              "  </thead>\n",
              "  <tbody>\n",
              "    <tr>\n",
              "      <th>count</th>\n",
              "      <td>4.604800e+04</td>\n",
              "      <td>4.604800e+04</td>\n",
              "      <td>46048.000000</td>\n",
              "      <td>46048.000000</td>\n",
              "    </tr>\n",
              "    <tr>\n",
              "      <th>mean</th>\n",
              "      <td>7.122982e+04</td>\n",
              "      <td>1.656384e+04</td>\n",
              "      <td>132.986992</td>\n",
              "      <td>2016.012378</td>\n",
              "    </tr>\n",
              "    <tr>\n",
              "      <th>std</th>\n",
              "      <td>6.245745e+04</td>\n",
              "      <td>1.928020e+04</td>\n",
              "      <td>75.034784</td>\n",
              "      <td>3.155729</td>\n",
              "    </tr>\n",
              "    <tr>\n",
              "      <th>min</th>\n",
              "      <td>0.000000e+00</td>\n",
              "      <td>1.100000e+03</td>\n",
              "      <td>1.000000</td>\n",
              "      <td>2011.000000</td>\n",
              "    </tr>\n",
              "    <tr>\n",
              "      <th>25%</th>\n",
              "      <td>1.988900e+04</td>\n",
              "      <td>7.490000e+03</td>\n",
              "      <td>86.000000</td>\n",
              "      <td>2013.000000</td>\n",
              "    </tr>\n",
              "    <tr>\n",
              "      <th>50%</th>\n",
              "      <td>6.000000e+04</td>\n",
              "      <td>1.100000e+04</td>\n",
              "      <td>116.000000</td>\n",
              "      <td>2016.000000</td>\n",
              "    </tr>\n",
              "    <tr>\n",
              "      <th>75%</th>\n",
              "      <td>1.050000e+05</td>\n",
              "      <td>1.949000e+04</td>\n",
              "      <td>150.000000</td>\n",
              "      <td>2019.000000</td>\n",
              "    </tr>\n",
              "    <tr>\n",
              "      <th>max</th>\n",
              "      <td>1.111111e+06</td>\n",
              "      <td>1.199900e+06</td>\n",
              "      <td>850.000000</td>\n",
              "      <td>2021.000000</td>\n",
              "    </tr>\n",
              "  </tbody>\n",
              "</table>\n",
              "</div>\n",
              "      <button class=\"colab-df-convert\" onclick=\"convertToInteractive('df-7028db9b-038b-4081-a058-e3e84af947d9')\"\n",
              "              title=\"Convert this dataframe to an interactive table.\"\n",
              "              style=\"display:none;\">\n",
              "        \n",
              "  <svg xmlns=\"http://www.w3.org/2000/svg\" height=\"24px\"viewBox=\"0 0 24 24\"\n",
              "       width=\"24px\">\n",
              "    <path d=\"M0 0h24v24H0V0z\" fill=\"none\"/>\n",
              "    <path d=\"M18.56 5.44l.94 2.06.94-2.06 2.06-.94-2.06-.94-.94-2.06-.94 2.06-2.06.94zm-11 1L8.5 8.5l.94-2.06 2.06-.94-2.06-.94L8.5 2.5l-.94 2.06-2.06.94zm10 10l.94 2.06.94-2.06 2.06-.94-2.06-.94-.94-2.06-.94 2.06-2.06.94z\"/><path d=\"M17.41 7.96l-1.37-1.37c-.4-.4-.92-.59-1.43-.59-.52 0-1.04.2-1.43.59L10.3 9.45l-7.72 7.72c-.78.78-.78 2.05 0 2.83L4 21.41c.39.39.9.59 1.41.59.51 0 1.02-.2 1.41-.59l7.78-7.78 2.81-2.81c.8-.78.8-2.07 0-2.86zM5.41 20L4 18.59l7.72-7.72 1.47 1.35L5.41 20z\"/>\n",
              "  </svg>\n",
              "      </button>\n",
              "      \n",
              "  <style>\n",
              "    .colab-df-container {\n",
              "      display:flex;\n",
              "      flex-wrap:wrap;\n",
              "      gap: 12px;\n",
              "    }\n",
              "\n",
              "    .colab-df-convert {\n",
              "      background-color: #E8F0FE;\n",
              "      border: none;\n",
              "      border-radius: 50%;\n",
              "      cursor: pointer;\n",
              "      display: none;\n",
              "      fill: #1967D2;\n",
              "      height: 32px;\n",
              "      padding: 0 0 0 0;\n",
              "      width: 32px;\n",
              "    }\n",
              "\n",
              "    .colab-df-convert:hover {\n",
              "      background-color: #E2EBFA;\n",
              "      box-shadow: 0px 1px 2px rgba(60, 64, 67, 0.3), 0px 1px 3px 1px rgba(60, 64, 67, 0.15);\n",
              "      fill: #174EA6;\n",
              "    }\n",
              "\n",
              "    [theme=dark] .colab-df-convert {\n",
              "      background-color: #3B4455;\n",
              "      fill: #D2E3FC;\n",
              "    }\n",
              "\n",
              "    [theme=dark] .colab-df-convert:hover {\n",
              "      background-color: #434B5C;\n",
              "      box-shadow: 0px 1px 3px 1px rgba(0, 0, 0, 0.15);\n",
              "      filter: drop-shadow(0px 1px 2px rgba(0, 0, 0, 0.3));\n",
              "      fill: #FFFFFF;\n",
              "    }\n",
              "  </style>\n",
              "\n",
              "      <script>\n",
              "        const buttonEl =\n",
              "          document.querySelector('#df-7028db9b-038b-4081-a058-e3e84af947d9 button.colab-df-convert');\n",
              "        buttonEl.style.display =\n",
              "          google.colab.kernel.accessAllowed ? 'block' : 'none';\n",
              "\n",
              "        async function convertToInteractive(key) {\n",
              "          const element = document.querySelector('#df-7028db9b-038b-4081-a058-e3e84af947d9');\n",
              "          const dataTable =\n",
              "            await google.colab.kernel.invokeFunction('convertToInteractive',\n",
              "                                                     [key], {});\n",
              "          if (!dataTable) return;\n",
              "\n",
              "          const docLinkHtml = 'Like what you see? Visit the ' +\n",
              "            '<a target=\"_blank\" href=https://colab.research.google.com/notebooks/data_table.ipynb>data table notebook</a>'\n",
              "            + ' to learn more about interactive tables.';\n",
              "          element.innerHTML = '';\n",
              "          dataTable['output_type'] = 'display_data';\n",
              "          await google.colab.output.renderOutput(dataTable, element);\n",
              "          const docLink = document.createElement('div');\n",
              "          docLink.innerHTML = docLinkHtml;\n",
              "          element.appendChild(docLink);\n",
              "        }\n",
              "      </script>\n",
              "    </div>\n",
              "  </div>\n",
              "  "
            ]
          },
          "metadata": {},
          "execution_count": 75
        }
      ]
    },
    {
      "cell_type": "markdown",
      "source": [
        "**Question 1: What is the relationship between the car’s price and its age?**"
      ],
      "metadata": {
        "id": "WAWjZk-9qBPl"
      }
    },
    {
      "cell_type": "code",
      "source": [
        "AN.scatter(df['year'],df['price'], color='green',marker='*')\n",
        "AN.xlabel('year')\n",
        "AN.ylabel('price')\n",
        "AN.title(\"Corellation between age and prices\")\n",
        "AN.figure(figsize=(35,10))"
      ],
      "metadata": {
        "colab": {
          "base_uri": "https://localhost:8080/",
          "height": 330
        },
        "id": "oYv5VSDhrTCB",
        "outputId": "9a58e46e-58f3-4773-d4b3-816c4024187d"
      },
      "execution_count": null,
      "outputs": [
        {
          "output_type": "execute_result",
          "data": {
            "text/plain": [
              "<Figure size 2520x720 with 0 Axes>"
            ]
          },
          "metadata": {},
          "execution_count": 76
        },
        {
          "output_type": "display_data",
          "data": {
            "text/plain": [
              "<Figure size 432x288 with 1 Axes>"
            ],
            "image/png": "[encoded data removed]"
          },
          "metadata": {
            "needs_background": "light"
          }
        },
        {
          "output_type": "display_data",
          "data": {
            "text/plain": [
              "<Figure size 2520x720 with 0 Axes>"
            ]
          },
          "metadata": {}
        }
      ]
    },
    {
      "cell_type": "markdown",
      "source": [
        "**In conclusion to ques 1, it is shown upon implementing the bar plot that shows the relationship between the age of the car and its price it is clearly shown that as the age of the car increases with time the price or value of the car will decrease and vice versa.**"
      ],
      "metadata": {
        "id": "sFiorLTn0ZF4"
      }
    },
    {
      "cell_type": "markdown",
      "source": [
        "**Ques 2: What is the trend of manual,automatic, and semi automatic gear transmission over the years?**"
      ],
      "metadata": {
        "id": "cWPPcg1eC9X_"
      }
    },
    {
      "cell_type": "code",
      "source": [
        "df.corr()\n",
        "#MSN.relplot(data=df, x=\"mileage\", y=\"price\")\n",
        "AN.figure(figsize=(20,12))\n",
        "MSN.countplot(data=df, x=\"year\", hue='gear',palette='Spectral',edgecolor=\"black\")\n",
        "\n",
        "AN.show()"
      ],
      "metadata": {
        "colab": {
          "base_uri": "https://localhost:8080/",
          "height": 677
        },
        "id": "dQOeKuztHlr4",
        "outputId": "78324369-8a6f-4aee-ed4b-a0009c2a8e2a"
      },
      "execution_count": null,
      "outputs": [
        {
          "output_type": "display_data",
          "data": {
            "text/plain": [
              "<Figure size 1440x864 with 1 Axes>"
            ],
            "image/png": "[encoded data removed]"
          },
          "metadata": {
            "needs_background": "light"
          }
        }
      ]
    },
    {
      "cell_type": "markdown",
      "source": [
        "**The above countplot basically discusses which transmission gear is used the most over the years. According to this countplot, The 'manual' transmission gear was demanded more than the 'automatic' transmission gear in years of 2011,2012,2013,2014,2015,2016,2017,2019,and 2021. Whereas, in years 2018 and 2020 the 'automatic' transmission gear was used more than the 'manual' transmission gear.**"
      ],
      "metadata": {
        "id": "fQR_qmeN1BoX"
      }
    },
    {
      "cell_type": "code",
      "source": [
        "df.head(2)"
      ],
      "metadata": {
        "colab": {
          "base_uri": "https://localhost:8080/",
          "height": 112
        },
        "id": "52_R8uCBMOu7",
        "outputId": "505295d3-2ce6-44d0-dca4-97ba3459df2d"
      },
      "execution_count": null,
      "outputs": [
        {
          "output_type": "execute_result",
          "data": {
            "text/plain": [
              "    mileage        make model      fuel    gear offerType  price     hp  year\n",
              "0  235000.0         BMW   316    Diesel  Manual      Used   6800  116.0  2011\n",
              "1   92800.0  Volkswagen  Golf  Gasoline  Manual      Used   6877  122.0  2011"
            ],
            "text/html": [
              "\n",
              "  <div id=\"df-5826a11c-64ee-4219-9bdd-258c41ee3220\">\n",
              "    <div class=\"colab-df-container\">\n",
              "      <div>\n",
              "<style scoped>\n",
              "    .dataframe tbody tr th:only-of-type {\n",
              "        vertical-align: middle;\n",
              "    }\n",
              "\n",
              "    .dataframe tbody tr th {\n",
              "        vertical-align: top;\n",
              "    }\n",
              "\n",
              "    .dataframe thead th {\n",
              "        text-align: right;\n",
              "    }\n",
              "</style>\n",
              "<table border=\"1\" class=\"dataframe\">\n",
              "  <thead>\n",
              "    <tr style=\"text-align: right;\">\n",
              "      <th></th>\n",
              "      <th>mileage</th>\n",
              "      <th>make</th>\n",
              "      <th>model</th>\n",
              "      <th>fuel</th>\n",
              "      <th>gear</th>\n",
              "      <th>offerType</th>\n",
              "      <th>price</th>\n",
              "      <th>hp</th>\n",
              "      <th>year</th>\n",
              "    </tr>\n",
              "  </thead>\n",
              "  <tbody>\n",
              "    <tr>\n",
              "      <th>0</th>\n",
              "      <td>235000.0</td>\n",
              "      <td>BMW</td>\n",
              "      <td>316</td>\n",
              "      <td>Diesel</td>\n",
              "      <td>Manual</td>\n",
              "      <td>Used</td>\n",
              "      <td>6800</td>\n",
              "      <td>116.0</td>\n",
              "      <td>2011</td>\n",
              "    </tr>\n",
              "    <tr>\n",
              "      <th>1</th>\n",
              "      <td>92800.0</td>\n",
              "      <td>Volkswagen</td>\n",
              "      <td>Golf</td>\n",
              "      <td>Gasoline</td>\n",
              "      <td>Manual</td>\n",
              "      <td>Used</td>\n",
              "      <td>6877</td>\n",
              "      <td>122.0</td>\n",
              "      <td>2011</td>\n",
              "    </tr>\n",
              "  </tbody>\n",
              "</table>\n",
              "</div>\n",
              "      <button class=\"colab-df-convert\" onclick=\"convertToInteractive('df-5826a11c-64ee-4219-9bdd-258c41ee3220')\"\n",
              "              title=\"Convert this dataframe to an interactive table.\"\n",
              "              style=\"display:none;\">\n",
              "        \n",
              "  <svg xmlns=\"http://www.w3.org/2000/svg\" height=\"24px\"viewBox=\"0 0 24 24\"\n",
              "       width=\"24px\">\n",
              "    <path d=\"M0 0h24v24H0V0z\" fill=\"none\"/>\n",
              "    <path d=\"M18.56 5.44l.94 2.06.94-2.06 2.06-.94-2.06-.94-.94-2.06-.94 2.06-2.06.94zm-11 1L8.5 8.5l.94-2.06 2.06-.94-2.06-.94L8.5 2.5l-.94 2.06-2.06.94zm10 10l.94 2.06.94-2.06 2.06-.94-2.06-.94-.94-2.06-.94 2.06-2.06.94z\"/><path d=\"M17.41 7.96l-1.37-1.37c-.4-.4-.92-.59-1.43-.59-.52 0-1.04.2-1.43.59L10.3 9.45l-7.72 7.72c-.78.78-.78 2.05 0 2.83L4 21.41c.39.39.9.59 1.41.59.51 0 1.02-.2 1.41-.59l7.78-7.78 2.81-2.81c.8-.78.8-2.07 0-2.86zM5.41 20L4 18.59l7.72-7.72 1.47 1.35L5.41 20z\"/>\n",
              "  </svg>\n",
              "      </button>\n",
              "      \n",
              "  <style>\n",
              "    .colab-df-container {\n",
              "      display:flex;\n",
              "      flex-wrap:wrap;\n",
              "      gap: 12px;\n",
              "    }\n",
              "\n",
              "    .colab-df-convert {\n",
              "      background-color: #E8F0FE;\n",
              "      border: none;\n",
              "      border-radius: 50%;\n",
              "      cursor: pointer;\n",
              "      display: none;\n",
              "      fill: #1967D2;\n",
              "      height: 32px;\n",
              "      padding: 0 0 0 0;\n",
              "      width: 32px;\n",
              "    }\n",
              "\n",
              "    .colab-df-convert:hover {\n",
              "      background-color: #E2EBFA;\n",
              "      box-shadow: 0px 1px 2px rgba(60, 64, 67, 0.3), 0px 1px 3px 1px rgba(60, 64, 67, 0.15);\n",
              "      fill: #174EA6;\n",
              "    }\n",
              "\n",
              "    [theme=dark] .colab-df-convert {\n",
              "      background-color: #3B4455;\n",
              "      fill: #D2E3FC;\n",
              "    }\n",
              "\n",
              "    [theme=dark] .colab-df-convert:hover {\n",
              "      background-color: #434B5C;\n",
              "      box-shadow: 0px 1px 3px 1px rgba(0, 0, 0, 0.15);\n",
              "      filter: drop-shadow(0px 1px 2px rgba(0, 0, 0, 0.3));\n",
              "      fill: #FFFFFF;\n",
              "    }\n",
              "  </style>\n",
              "\n",
              "      <script>\n",
              "        const buttonEl =\n",
              "          document.querySelector('#df-5826a11c-64ee-4219-9bdd-258c41ee3220 button.colab-df-convert');\n",
              "        buttonEl.style.display =\n",
              "          google.colab.kernel.accessAllowed ? 'block' : 'none';\n",
              "\n",
              "        async function convertToInteractive(key) {\n",
              "          const element = document.querySelector('#df-5826a11c-64ee-4219-9bdd-258c41ee3220');\n",
              "          const dataTable =\n",
              "            await google.colab.kernel.invokeFunction('convertToInteractive',\n",
              "                                                     [key], {});\n",
              "          if (!dataTable) return;\n",
              "\n",
              "          const docLinkHtml = 'Like what you see? Visit the ' +\n",
              "            '<a target=\"_blank\" href=https://colab.research.google.com/notebooks/data_table.ipynb>data table notebook</a>'\n",
              "            + ' to learn more about interactive tables.';\n",
              "          element.innerHTML = '';\n",
              "          dataTable['output_type'] = 'display_data';\n",
              "          await google.colab.output.renderOutput(dataTable, element);\n",
              "          const docLink = document.createElement('div');\n",
              "          docLink.innerHTML = docLinkHtml;\n",
              "          element.appendChild(docLink);\n",
              "        }\n",
              "      </script>\n",
              "    </div>\n",
              "  </div>\n",
              "  "
            ]
          },
          "metadata": {},
          "execution_count": 78
        }
      ]
    },
    {
      "cell_type": "markdown",
      "source": [
        "**Ques 3: Which car has the highest price in this dataset?**"
      ],
      "metadata": {
        "id": "Of4VoVf9HlXh"
      }
    },
    {
      "cell_type": "markdown",
      "source": [
        "**First of all, i checked   the highest price that a car has in this Data Set by implementing the specific code max price used below.**"
      ],
      "metadata": {
        "id": "od55ca3W2yjO"
      }
    },
    {
      "cell_type": "code",
      "source": [
        "max(df['price'])\n"
      ],
      "metadata": {
        "colab": {
          "base_uri": "https://localhost:8080/"
        },
        "id": "qISbGcqpPPLh",
        "outputId": "0f032566-399c-496a-e606-48f98bb9793c"
      },
      "execution_count": null,
      "outputs": [
        {
          "output_type": "execute_result",
          "data": {
            "text/plain": [
              "1199900"
            ]
          },
          "metadata": {},
          "execution_count": 79
        }
      ]
    },
    {
      "cell_type": "markdown",
      "source": [
        "**Afterwards, it is displayed that the 'Ferrari F12' has the highest price in this Data Set showing its specific description.**"
      ],
      "metadata": {
        "id": "2qQ0Oz7a3OL9"
      }
    },
    {
      "cell_type": "code",
      "source": [
        "df[df['price'] == 1199900]"
      ],
      "metadata": {
        "colab": {
          "base_uri": "https://localhost:8080/",
          "height": 81
        },
        "id": "8l0DqHUJNvC5",
        "outputId": "2d352fdc-b666-457b-aafb-c948245b389a"
      },
      "execution_count": null,
      "outputs": [
        {
          "output_type": "execute_result",
          "data": {
            "text/plain": [
              "       mileage     make model      fuel       gear offerType    price     hp  \\\n",
              "21675    431.0  Ferrari   F12  Gasoline  Automatic      Used  1199900  775.0   \n",
              "\n",
              "       year  \n",
              "21675  2017  "
            ],
            "text/html": [
              "\n",
              "  <div id=\"df-5eff893a-4971-45bb-adb1-ba092f18e1dc\">\n",
              "    <div class=\"colab-df-container\">\n",
              "      <div>\n",
              "<style scoped>\n",
              "    .dataframe tbody tr th:only-of-type {\n",
              "        vertical-align: middle;\n",
              "    }\n",
              "\n",
              "    .dataframe tbody tr th {\n",
              "        vertical-align: top;\n",
              "    }\n",
              "\n",
              "    .dataframe thead th {\n",
              "        text-align: right;\n",
              "    }\n",
              "</style>\n",
              "<table border=\"1\" class=\"dataframe\">\n",
              "  <thead>\n",
              "    <tr style=\"text-align: right;\">\n",
              "      <th></th>\n",
              "      <th>mileage</th>\n",
              "      <th>make</th>\n",
              "      <th>model</th>\n",
              "      <th>fuel</th>\n",
              "      <th>gear</th>\n",
              "      <th>offerType</th>\n",
              "      <th>price</th>\n",
              "      <th>hp</th>\n",
              "      <th>year</th>\n",
              "    </tr>\n",
              "  </thead>\n",
              "  <tbody>\n",
              "    <tr>\n",
              "      <th>21675</th>\n",
              "      <td>431.0</td>\n",
              "      <td>Ferrari</td>\n",
              "      <td>F12</td>\n",
              "      <td>Gasoline</td>\n",
              "      <td>Automatic</td>\n",
              "      <td>Used</td>\n",
              "      <td>1199900</td>\n",
              "      <td>775.0</td>\n",
              "      <td>2017</td>\n",
              "    </tr>\n",
              "  </tbody>\n",
              "</table>\n",
              "</div>\n",
              "      <button class=\"colab-df-convert\" onclick=\"convertToInteractive('df-5eff893a-4971-45bb-adb1-ba092f18e1dc')\"\n",
              "              title=\"Convert this dataframe to an interactive table.\"\n",
              "              style=\"display:none;\">\n",
              "        \n",
              "  <svg xmlns=\"http://www.w3.org/2000/svg\" height=\"24px\"viewBox=\"0 0 24 24\"\n",
              "       width=\"24px\">\n",
              "    <path d=\"M0 0h24v24H0V0z\" fill=\"none\"/>\n",
              "    <path d=\"M18.56 5.44l.94 2.06.94-2.06 2.06-.94-2.06-.94-.94-2.06-.94 2.06-2.06.94zm-11 1L8.5 8.5l.94-2.06 2.06-.94-2.06-.94L8.5 2.5l-.94 2.06-2.06.94zm10 10l.94 2.06.94-2.06 2.06-.94-2.06-.94-.94-2.06-.94 2.06-2.06.94z\"/><path d=\"M17.41 7.96l-1.37-1.37c-.4-.4-.92-.59-1.43-.59-.52 0-1.04.2-1.43.59L10.3 9.45l-7.72 7.72c-.78.78-.78 2.05 0 2.83L4 21.41c.39.39.9.59 1.41.59.51 0 1.02-.2 1.41-.59l7.78-7.78 2.81-2.81c.8-.78.8-2.07 0-2.86zM5.41 20L4 18.59l7.72-7.72 1.47 1.35L5.41 20z\"/>\n",
              "  </svg>\n",
              "      </button>\n",
              "      \n",
              "  <style>\n",
              "    .colab-df-container {\n",
              "      display:flex;\n",
              "      flex-wrap:wrap;\n",
              "      gap: 12px;\n",
              "    }\n",
              "\n",
              "    .colab-df-convert {\n",
              "      background-color: #E8F0FE;\n",
              "      border: none;\n",
              "      border-radius: 50%;\n",
              "      cursor: pointer;\n",
              "      display: none;\n",
              "      fill: #1967D2;\n",
              "      height: 32px;\n",
              "      padding: 0 0 0 0;\n",
              "      width: 32px;\n",
              "    }\n",
              "\n",
              "    .colab-df-convert:hover {\n",
              "      background-color: #E2EBFA;\n",
              "      box-shadow: 0px 1px 2px rgba(60, 64, 67, 0.3), 0px 1px 3px 1px rgba(60, 64, 67, 0.15);\n",
              "      fill: #174EA6;\n",
              "    }\n",
              "\n",
              "    [theme=dark] .colab-df-convert {\n",
              "      background-color: #3B4455;\n",
              "      fill: #D2E3FC;\n",
              "    }\n",
              "\n",
              "    [theme=dark] .colab-df-convert:hover {\n",
              "      background-color: #434B5C;\n",
              "      box-shadow: 0px 1px 3px 1px rgba(0, 0, 0, 0.15);\n",
              "      filter: drop-shadow(0px 1px 2px rgba(0, 0, 0, 0.3));\n",
              "      fill: #FFFFFF;\n",
              "    }\n",
              "  </style>\n",
              "\n",
              "      <script>\n",
              "        const buttonEl =\n",
              "          document.querySelector('#df-5eff893a-4971-45bb-adb1-ba092f18e1dc button.colab-df-convert');\n",
              "        buttonEl.style.display =\n",
              "          google.colab.kernel.accessAllowed ? 'block' : 'none';\n",
              "\n",
              "        async function convertToInteractive(key) {\n",
              "          const element = document.querySelector('#df-5eff893a-4971-45bb-adb1-ba092f18e1dc');\n",
              "          const dataTable =\n",
              "            await google.colab.kernel.invokeFunction('convertToInteractive',\n",
              "                                                     [key], {});\n",
              "          if (!dataTable) return;\n",
              "\n",
              "          const docLinkHtml = 'Like what you see? Visit the ' +\n",
              "            '<a target=\"_blank\" href=https://colab.research.google.com/notebooks/data_table.ipynb>data table notebook</a>'\n",
              "            + ' to learn more about interactive tables.';\n",
              "          element.innerHTML = '';\n",
              "          dataTable['output_type'] = 'display_data';\n",
              "          await google.colab.output.renderOutput(dataTable, element);\n",
              "          const docLink = document.createElement('div');\n",
              "          docLink.innerHTML = docLinkHtml;\n",
              "          element.appendChild(docLink);\n",
              "        }\n",
              "      </script>\n",
              "    </div>\n",
              "  </div>\n",
              "  "
            ]
          },
          "metadata": {},
          "execution_count": 80
        }
      ]
    },
    {
      "cell_type": "markdown",
      "source": [
        "**Ques 4: What are the top 5 and bottom 5 cars generating revenues according to the \"make\"?**"
      ],
      "metadata": {
        "id": "KjiUDRNvQvtP"
      }
    },
    {
      "cell_type": "code",
      "source": [
        "df1 = pd.DataFrame(df.groupby(['make'])['price'].sum().sort_values(ascending=False))"
      ],
      "metadata": {
        "id": "A9QhEHjbE_YF"
      },
      "execution_count": null,
      "outputs": []
    },
    {
      "cell_type": "code",
      "source": [
        "df1"
      ],
      "metadata": {
        "colab": {
          "base_uri": "https://localhost:8080/",
          "height": 455
        },
        "id": "hTq1M0Pkbnxu",
        "outputId": "d4c7e5e2-b31e-4972-81c2-a74ca6e9f8c2"
      },
      "execution_count": null,
      "outputs": [
        {
          "output_type": "execute_result",
          "data": {
            "text/plain": [
              "                   price\n",
              "make                    \n",
              "Volkswagen     110927601\n",
              "Audi            80430606\n",
              "Mercedes-Benz   66488550\n",
              "Ford            60733916\n",
              "BMW             56110698\n",
              "...                  ...\n",
              "Piaggio            21589\n",
              "Isuzu              16900\n",
              "Zhidou             12500\n",
              "Others              1850\n",
              "Brilliance          1500\n",
              "\n",
              "[71 rows x 1 columns]"
            ],
            "text/html": [
              "\n",
              "  <div id=\"df-e740798d-82ec-4c67-afb0-1b2db73ffec6\">\n",
              "    <div class=\"colab-df-container\">\n",
              "      <div>\n",
              "<style scoped>\n",
              "    .dataframe tbody tr th:only-of-type {\n",
              "        vertical-align: middle;\n",
              "    }\n",
              "\n",
              "    .dataframe tbody tr th {\n",
              "        vertical-align: top;\n",
              "    }\n",
              "\n",
              "    .dataframe thead th {\n",
              "        text-align: right;\n",
              "    }\n",
              "</style>\n",
              "<table border=\"1\" class=\"dataframe\">\n",
              "  <thead>\n",
              "    <tr style=\"text-align: right;\">\n",
              "      <th></th>\n",
              "      <th>price</th>\n",
              "    </tr>\n",
              "    <tr>\n",
              "      <th>make</th>\n",
              "      <th></th>\n",
              "    </tr>\n",
              "  </thead>\n",
              "  <tbody>\n",
              "    <tr>\n",
              "      <th>Volkswagen</th>\n",
              "      <td>110927601</td>\n",
              "    </tr>\n",
              "    <tr>\n",
              "      <th>Audi</th>\n",
              "      <td>80430606</td>\n",
              "    </tr>\n",
              "    <tr>\n",
              "      <th>Mercedes-Benz</th>\n",
              "      <td>66488550</td>\n",
              "    </tr>\n",
              "    <tr>\n",
              "      <th>Ford</th>\n",
              "      <td>60733916</td>\n",
              "    </tr>\n",
              "    <tr>\n",
              "      <th>BMW</th>\n",
              "      <td>56110698</td>\n",
              "    </tr>\n",
              "    <tr>\n",
              "      <th>...</th>\n",
              "      <td>...</td>\n",
              "    </tr>\n",
              "    <tr>\n",
              "      <th>Piaggio</th>\n",
              "      <td>21589</td>\n",
              "    </tr>\n",
              "    <tr>\n",
              "      <th>Isuzu</th>\n",
              "      <td>16900</td>\n",
              "    </tr>\n",
              "    <tr>\n",
              "      <th>Zhidou</th>\n",
              "      <td>12500</td>\n",
              "    </tr>\n",
              "    <tr>\n",
              "      <th>Others</th>\n",
              "      <td>1850</td>\n",
              "    </tr>\n",
              "    <tr>\n",
              "      <th>Brilliance</th>\n",
              "      <td>1500</td>\n",
              "    </tr>\n",
              "  </tbody>\n",
              "</table>\n",
              "<p>71 rows × 1 columns</p>\n",
              "</div>\n",
              "      <button class=\"colab-df-convert\" onclick=\"convertToInteractive('df-e740798d-82ec-4c67-afb0-1b2db73ffec6')\"\n",
              "              title=\"Convert this dataframe to an interactive table.\"\n",
              "              style=\"display:none;\">\n",
              "        \n",
              "  <svg xmlns=\"http://www.w3.org/2000/svg\" height=\"24px\"viewBox=\"0 0 24 24\"\n",
              "       width=\"24px\">\n",
              "    <path d=\"M0 0h24v24H0V0z\" fill=\"none\"/>\n",
              "    <path d=\"M18.56 5.44l.94 2.06.94-2.06 2.06-.94-2.06-.94-.94-2.06-.94 2.06-2.06.94zm-11 1L8.5 8.5l.94-2.06 2.06-.94-2.06-.94L8.5 2.5l-.94 2.06-2.06.94zm10 10l.94 2.06.94-2.06 2.06-.94-2.06-.94-.94-2.06-.94 2.06-2.06.94z\"/><path d=\"M17.41 7.96l-1.37-1.37c-.4-.4-.92-.59-1.43-.59-.52 0-1.04.2-1.43.59L10.3 9.45l-7.72 7.72c-.78.78-.78 2.05 0 2.83L4 21.41c.39.39.9.59 1.41.59.51 0 1.02-.2 1.41-.59l7.78-7.78 2.81-2.81c.8-.78.8-2.07 0-2.86zM5.41 20L4 18.59l7.72-7.72 1.47 1.35L5.41 20z\"/>\n",
              "  </svg>\n",
              "      </button>\n",
              "      \n",
              "  <style>\n",
              "    .colab-df-container {\n",
              "      display:flex;\n",
              "      flex-wrap:wrap;\n",
              "      gap: 12px;\n",
              "    }\n",
              "\n",
              "    .colab-df-convert {\n",
              "      background-color: #E8F0FE;\n",
              "      border: none;\n",
              "      border-radius: 50%;\n",
              "      cursor: pointer;\n",
              "      display: none;\n",
              "      fill: #1967D2;\n",
              "      height: 32px;\n",
              "      padding: 0 0 0 0;\n",
              "      width: 32px;\n",
              "    }\n",
              "\n",
              "    .colab-df-convert:hover {\n",
              "      background-color: #E2EBFA;\n",
              "      box-shadow: 0px 1px 2px rgba(60, 64, 67, 0.3), 0px 1px 3px 1px rgba(60, 64, 67, 0.15);\n",
              "      fill: #174EA6;\n",
              "    }\n",
              "\n",
              "    [theme=dark] .colab-df-convert {\n",
              "      background-color: #3B4455;\n",
              "      fill: #D2E3FC;\n",
              "    }\n",
              "\n",
              "    [theme=dark] .colab-df-convert:hover {\n",
              "      background-color: #434B5C;\n",
              "      box-shadow: 0px 1px 3px 1px rgba(0, 0, 0, 0.15);\n",
              "      filter: drop-shadow(0px 1px 2px rgba(0, 0, 0, 0.3));\n",
              "      fill: #FFFFFF;\n",
              "    }\n",
              "  </style>\n",
              "\n",
              "      <script>\n",
              "        const buttonEl =\n",
              "          document.querySelector('#df-e740798d-82ec-4c67-afb0-1b2db73ffec6 button.colab-df-convert');\n",
              "        buttonEl.style.display =\n",
              "          google.colab.kernel.accessAllowed ? 'block' : 'none';\n",
              "\n",
              "        async function convertToInteractive(key) {\n",
              "          const element = document.querySelector('#df-e740798d-82ec-4c67-afb0-1b2db73ffec6');\n",
              "          const dataTable =\n",
              "            await google.colab.kernel.invokeFunction('convertToInteractive',\n",
              "                                                     [key], {});\n",
              "          if (!dataTable) return;\n",
              "\n",
              "          const docLinkHtml = 'Like what you see? Visit the ' +\n",
              "            '<a target=\"_blank\" href=https://colab.research.google.com/notebooks/data_table.ipynb>data table notebook</a>'\n",
              "            + ' to learn more about interactive tables.';\n",
              "          element.innerHTML = '';\n",
              "          dataTable['output_type'] = 'display_data';\n",
              "          await google.colab.output.renderOutput(dataTable, element);\n",
              "          const docLink = document.createElement('div');\n",
              "          docLink.innerHTML = docLinkHtml;\n",
              "          element.appendChild(docLink);\n",
              "        }\n",
              "      </script>\n",
              "    </div>\n",
              "  </div>\n",
              "  "
            ]
          },
          "metadata": {},
          "execution_count": 82
        }
      ]
    },
    {
      "cell_type": "markdown",
      "source": [
        "**In the following question, my purpose is to know which top 5 and bottom 5 cars generating revenues according to the 'make' in this given Data Set. I implemented a 'Data Frame' function that sets it as an accurate table.**"
      ],
      "metadata": {
        "id": "CUto-HMv31ij"
      }
    },
    {
      "cell_type": "markdown",
      "source": [
        "**Ques 5: Which transmission gear is mostly preferred in Germany?**"
      ],
      "metadata": {
        "id": "QgyT1rFfSqm8"
      }
    },
    {
      "cell_type": "code",
      "source": [
        "\n",
        "colors=cm.Accent(np.arange(12)/12)\n",
        "\n",
        "labels=df['gear'].value_counts().keys()\n",
        "\n",
        "AN.pie(x=df['gear'].value_counts(), labels= labels,\n",
        "       autopct='%1.1f%%',colors=[\"Green\",\"Yellow\",\"Blue\"],shadow=True)\n",
        "\n",
        "\n",
        "AN.title(\"The percentage of cars based on transmission\")"
      ],
      "metadata": {
        "colab": {
          "base_uri": "https://localhost:8080/",
          "height": 281
        },
        "id": "SgwbFK1iWHAI",
        "outputId": "902c9ffc-1e32-40cf-c7a5-fa14a067c7ff"
      },
      "execution_count": null,
      "outputs": [
        {
          "output_type": "execute_result",
          "data": {
            "text/plain": [
              "Text(0.5, 1.0, 'The percentage of cars based on transmission')"
            ]
          },
          "metadata": {},
          "execution_count": 83
        },
        {
          "output_type": "display_data",
          "data": {
            "text/plain": [
              "<Figure size 432x288 with 1 Axes>"
            ],
            "image/png": "[encoded data removed]"
          },
          "metadata": {}
        }
      ]
    },
    {
      "cell_type": "markdown",
      "source": [
        "**Ques 6: Which offerType is used the most over the years?**"
      ],
      "metadata": {
        "id": "nC0tlw9H5Qnd"
      }
    },
    {
      "cell_type": "code",
      "source": [
        "df.corr()\n",
        "#MSN.relplot(data=df, x=\"year\", y=\"offerType\")\n",
        "AN.figure(figsize=(20,12))\n",
        "MSN.countplot(data=df, x=\"year\", hue='offerType',palette='flare',edgecolor=\"black\")\n",
        "\n",
        "AN.show()\n"
      ],
      "metadata": {
        "colab": {
          "base_uri": "https://localhost:8080/",
          "height": 677
        },
        "id": "NEwTV3VDZ3DN",
        "outputId": "f896c81f-d78d-45d0-a935-4257eab45b47"
      },
      "execution_count": null,
      "outputs": [
        {
          "output_type": "display_data",
          "data": {
            "text/plain": [
              "<Figure size 1440x864 with 1 Axes>"
            ],
            "image/png": "[encoded data removed]"
          },
          "metadata": {
            "needs_background": "light"
          }
        }
      ]
    },
    {
      "cell_type": "markdown",
      "source": [
        "**In the above question, a conclusion can be made that 'used' cars is ranked first compared to the other 'offerType' over the years. on the other hand, in year 2021 ' Pre-registered' was demanded the most. A countplot was used in order to be interpreted accurately.**"
      ],
      "metadata": {
        "id": "dmTGus9F8qu8"
      }
    },
    {
      "cell_type": "markdown",
      "source": [
        "**Ques 7: Does higher hp maintains higher price?**"
      ],
      "metadata": {
        "id": "fbdL1xJ_y435"
      }
    },
    {
      "cell_type": "code",
      "source": [
        "AN.figure(figsize=(10,7))\n",
        "MSN.lineplot(x='hp', y='price', data=df)\n",
        "AN.title(\"The relationship between horsepower and price\")"
      ],
      "metadata": {
        "id": "wt7SNqeCnMH7",
        "colab": {
          "base_uri": "https://localhost:8080/",
          "height": 475
        },
        "outputId": "dd06dc05-52a9-4eaa-c961-ced41610fec9"
      },
      "execution_count": null,
      "outputs": [
        {
          "output_type": "execute_result",
          "data": {
            "text/plain": [
              "Text(0.5, 1.0, 'The relationship between horsepower and price')"
            ]
          },
          "metadata": {},
          "execution_count": 85
        },
        {
          "output_type": "display_data",
          "data": {
            "text/plain": [
              "<Figure size 720x504 with 1 Axes>"
            ],
            "image/png": "[encoded data removed]"
          },
          "metadata": {
            "needs_background": "light"
          }
        }
      ]
    },
    {
      "cell_type": "markdown",
      "source": [
        "**Basically here i am talking about the variation of hp interms of price. My purpose was to check the relationship between 'hp' and 'price'.It is shown that as the hp increases the price increases which predicts a positive correlation.**"
      ],
      "metadata": {
        "id": "4p9LdmGFDTEr"
      }
    },
    {
      "cell_type": "markdown",
      "source": [
        "**Ques 8: Which horsepower category do cars belong to?**"
      ],
      "metadata": {
        "id": "7mqvWIKq-2Ai"
      }
    },
    {
      "cell_type": "code",
      "source": [
        "hp= []\n",
        "for x in df['hp']:\n",
        "  if x>150:\n",
        "    hp.append(\"high horsepower\")\n",
        "  elif x>86:\n",
        "    hp.append(\"mid horsepower\")\n",
        "  else:\n",
        "    hp.append(\"low horsepower\")"
      ],
      "metadata": {
        "id": "0HTi-_td4iX6"
      },
      "execution_count": null,
      "outputs": []
    },
    {
      "cell_type": "code",
      "source": [
        "df.insert(8, 'horsepower_category', hp)"
      ],
      "metadata": {
        "id": "CyRel4kLB1en"
      },
      "execution_count": null,
      "outputs": []
    },
    {
      "cell_type": "code",
      "source": [
        "df.head(7)"
      ],
      "metadata": {
        "colab": {
          "base_uri": "https://localhost:8080/",
          "height": 269
        },
        "id": "xjxBa-XEDcdk",
        "outputId": "50988ff9-b49c-454d-a799-723d232220af"
      },
      "execution_count": null,
      "outputs": [
        {
          "output_type": "execute_result",
          "data": {
            "text/plain": [
              "    mileage        make   model               fuel       gear offerType  \\\n",
              "0  235000.0         BMW     316             Diesel     Manual      Used   \n",
              "1   92800.0  Volkswagen    Golf           Gasoline     Manual      Used   \n",
              "2  149300.0        SEAT    Exeo           Gasoline     Manual      Used   \n",
              "3   96200.0     Renault  Megane           Gasoline     Manual      Used   \n",
              "4  156000.0     Peugeot     308           Gasoline     Manual      Used   \n",
              "5  147000.0      Toyota   Auris  Electric/Gasoline  Automatic      Used   \n",
              "6   91894.0     Renault  Scenic             Diesel     Manual      Used   \n",
              "\n",
              "   price     hp horsepower_category  year  \n",
              "0   6800  116.0      mid horsepower  2011  \n",
              "1   6877  122.0      mid horsepower  2011  \n",
              "2   6900  160.0     high horsepower  2011  \n",
              "3   6950  110.0      mid horsepower  2011  \n",
              "4   6950  156.0     high horsepower  2011  \n",
              "5   6950   99.0      mid horsepower  2011  \n",
              "6   6970  131.0      mid horsepower  2011  "
            ],
            "text/html": [
              "\n",
              "  <div id=\"df-f4c7e342-33f0-4003-b60d-39ae277e3d83\">\n",
              "    <div class=\"colab-df-container\">\n",
              "      <div>\n",
              "<style scoped>\n",
              "    .dataframe tbody tr th:only-of-type {\n",
              "        vertical-align: middle;\n",
              "    }\n",
              "\n",
              "    .dataframe tbody tr th {\n",
              "        vertical-align: top;\n",
              "    }\n",
              "\n",
              "    .dataframe thead th {\n",
              "        text-align: right;\n",
              "    }\n",
              "</style>\n",
              "<table border=\"1\" class=\"dataframe\">\n",
              "  <thead>\n",
              "    <tr style=\"text-align: right;\">\n",
              "      <th></th>\n",
              "      <th>mileage</th>\n",
              "      <th>make</th>\n",
              "      <th>model</th>\n",
              "      <th>fuel</th>\n",
              "      <th>gear</th>\n",
              "      <th>offerType</th>\n",
              "      <th>price</th>\n",
              "      <th>hp</th>\n",
              "      <th>horsepower_category</th>\n",
              "      <th>year</th>\n",
              "    </tr>\n",
              "  </thead>\n",
              "  <tbody>\n",
              "    <tr>\n",
              "      <th>0</th>\n",
              "      <td>235000.0</td>\n",
              "      <td>BMW</td>\n",
              "      <td>316</td>\n",
              "      <td>Diesel</td>\n",
              "      <td>Manual</td>\n",
              "      <td>Used</td>\n",
              "      <td>6800</td>\n",
              "      <td>116.0</td>\n",
              "      <td>mid horsepower</td>\n",
              "      <td>2011</td>\n",
              "    </tr>\n",
              "    <tr>\n",
              "      <th>1</th>\n",
              "      <td>92800.0</td>\n",
              "      <td>Volkswagen</td>\n",
              "      <td>Golf</td>\n",
              "      <td>Gasoline</td>\n",
              "      <td>Manual</td>\n",
              "      <td>Used</td>\n",
              "      <td>6877</td>\n",
              "      <td>122.0</td>\n",
              "      <td>mid horsepower</td>\n",
              "      <td>2011</td>\n",
              "    </tr>\n",
              "    <tr>\n",
              "      <th>2</th>\n",
              "      <td>149300.0</td>\n",
              "      <td>SEAT</td>\n",
              "      <td>Exeo</td>\n",
              "      <td>Gasoline</td>\n",
              "      <td>Manual</td>\n",
              "      <td>Used</td>\n",
              "      <td>6900</td>\n",
              "      <td>160.0</td>\n",
              "      <td>high horsepower</td>\n",
              "      <td>2011</td>\n",
              "    </tr>\n",
              "    <tr>\n",
              "      <th>3</th>\n",
              "      <td>96200.0</td>\n",
              "      <td>Renault</td>\n",
              "      <td>Megane</td>\n",
              "      <td>Gasoline</td>\n",
              "      <td>Manual</td>\n",
              "      <td>Used</td>\n",
              "      <td>6950</td>\n",
              "      <td>110.0</td>\n",
              "      <td>mid horsepower</td>\n",
              "      <td>2011</td>\n",
              "    </tr>\n",
              "    <tr>\n",
              "      <th>4</th>\n",
              "      <td>156000.0</td>\n",
              "      <td>Peugeot</td>\n",
              "      <td>308</td>\n",
              "      <td>Gasoline</td>\n",
              "      <td>Manual</td>\n",
              "      <td>Used</td>\n",
              "      <td>6950</td>\n",
              "      <td>156.0</td>\n",
              "      <td>high horsepower</td>\n",
              "      <td>2011</td>\n",
              "    </tr>\n",
              "    <tr>\n",
              "      <th>5</th>\n",
              "      <td>147000.0</td>\n",
              "      <td>Toyota</td>\n",
              "      <td>Auris</td>\n",
              "      <td>Electric/Gasoline</td>\n",
              "      <td>Automatic</td>\n",
              "      <td>Used</td>\n",
              "      <td>6950</td>\n",
              "      <td>99.0</td>\n",
              "      <td>mid horsepower</td>\n",
              "      <td>2011</td>\n",
              "    </tr>\n",
              "    <tr>\n",
              "      <th>6</th>\n",
              "      <td>91894.0</td>\n",
              "      <td>Renault</td>\n",
              "      <td>Scenic</td>\n",
              "      <td>Diesel</td>\n",
              "      <td>Manual</td>\n",
              "      <td>Used</td>\n",
              "      <td>6970</td>\n",
              "      <td>131.0</td>\n",
              "      <td>mid horsepower</td>\n",
              "      <td>2011</td>\n",
              "    </tr>\n",
              "  </tbody>\n",
              "</table>\n",
              "</div>\n",
              "      <button class=\"colab-df-convert\" onclick=\"convertToInteractive('df-f4c7e342-33f0-4003-b60d-39ae277e3d83')\"\n",
              "              title=\"Convert this dataframe to an interactive table.\"\n",
              "              style=\"display:none;\">\n",
              "        \n",
              "  <svg xmlns=\"http://www.w3.org/2000/svg\" height=\"24px\"viewBox=\"0 0 24 24\"\n",
              "       width=\"24px\">\n",
              "    <path d=\"M0 0h24v24H0V0z\" fill=\"none\"/>\n",
              "    <path d=\"M18.56 5.44l.94 2.06.94-2.06 2.06-.94-2.06-.94-.94-2.06-.94 2.06-2.06.94zm-11 1L8.5 8.5l.94-2.06 2.06-.94-2.06-.94L8.5 2.5l-.94 2.06-2.06.94zm10 10l.94 2.06.94-2.06 2.06-.94-2.06-.94-.94-2.06-.94 2.06-2.06.94z\"/><path d=\"M17.41 7.96l-1.37-1.37c-.4-.4-.92-.59-1.43-.59-.52 0-1.04.2-1.43.59L10.3 9.45l-7.72 7.72c-.78.78-.78 2.05 0 2.83L4 21.41c.39.39.9.59 1.41.59.51 0 1.02-.2 1.41-.59l7.78-7.78 2.81-2.81c.8-.78.8-2.07 0-2.86zM5.41 20L4 18.59l7.72-7.72 1.47 1.35L5.41 20z\"/>\n",
              "  </svg>\n",
              "      </button>\n",
              "      \n",
              "  <style>\n",
              "    .colab-df-container {\n",
              "      display:flex;\n",
              "      flex-wrap:wrap;\n",
              "      gap: 12px;\n",
              "    }\n",
              "\n",
              "    .colab-df-convert {\n",
              "      background-color: #E8F0FE;\n",
              "      border: none;\n",
              "      border-radius: 50%;\n",
              "      cursor: pointer;\n",
              "      display: none;\n",
              "      fill: #1967D2;\n",
              "      height: 32px;\n",
              "      padding: 0 0 0 0;\n",
              "      width: 32px;\n",
              "    }\n",
              "\n",
              "    .colab-df-convert:hover {\n",
              "      background-color: #E2EBFA;\n",
              "      box-shadow: 0px 1px 2px rgba(60, 64, 67, 0.3), 0px 1px 3px 1px rgba(60, 64, 67, 0.15);\n",
              "      fill: #174EA6;\n",
              "    }\n",
              "\n",
              "    [theme=dark] .colab-df-convert {\n",
              "      background-color: #3B4455;\n",
              "      fill: #D2E3FC;\n",
              "    }\n",
              "\n",
              "    [theme=dark] .colab-df-convert:hover {\n",
              "      background-color: #434B5C;\n",
              "      box-shadow: 0px 1px 3px 1px rgba(0, 0, 0, 0.15);\n",
              "      filter: drop-shadow(0px 1px 2px rgba(0, 0, 0, 0.3));\n",
              "      fill: #FFFFFF;\n",
              "    }\n",
              "  </style>\n",
              "\n",
              "      <script>\n",
              "        const buttonEl =\n",
              "          document.querySelector('#df-f4c7e342-33f0-4003-b60d-39ae277e3d83 button.colab-df-convert');\n",
              "        buttonEl.style.display =\n",
              "          google.colab.kernel.accessAllowed ? 'block' : 'none';\n",
              "\n",
              "        async function convertToInteractive(key) {\n",
              "          const element = document.querySelector('#df-f4c7e342-33f0-4003-b60d-39ae277e3d83');\n",
              "          const dataTable =\n",
              "            await google.colab.kernel.invokeFunction('convertToInteractive',\n",
              "                                                     [key], {});\n",
              "          if (!dataTable) return;\n",
              "\n",
              "          const docLinkHtml = 'Like what you see? Visit the ' +\n",
              "            '<a target=\"_blank\" href=https://colab.research.google.com/notebooks/data_table.ipynb>data table notebook</a>'\n",
              "            + ' to learn more about interactive tables.';\n",
              "          element.innerHTML = '';\n",
              "          dataTable['output_type'] = 'display_data';\n",
              "          await google.colab.output.renderOutput(dataTable, element);\n",
              "          const docLink = document.createElement('div');\n",
              "          docLink.innerHTML = docLinkHtml;\n",
              "          element.appendChild(docLink);\n",
              "        }\n",
              "      </script>\n",
              "    </div>\n",
              "  </div>\n",
              "  "
            ]
          },
          "metadata": {},
          "execution_count": 88
        }
      ]
    },
    {
      "cell_type": "code",
      "source": [
        "\n",
        "colors=cm.Accent(np.arange(12)/12)\n",
        "\n",
        "labels=df['horsepower_category'].value_counts().keys()\n",
        "\n",
        "AN.pie(x=df['horsepower_category'].value_counts(), labels= labels,\n",
        "       colors=[\"orange\",\"yellow\",\"blue\"], shadow=True,\n",
        "       autopct='%1.1f%%')\n",
        "\n",
        "AN.title(\"The percentage of horsepower categories\")"
      ],
      "metadata": {
        "colab": {
          "base_uri": "https://localhost:8080/",
          "height": 281
        },
        "id": "E-s0VtSjDqlb",
        "outputId": "811bec8e-fdd6-4603-a2a9-d9ceca6621ee"
      },
      "execution_count": null,
      "outputs": [
        {
          "output_type": "execute_result",
          "data": {
            "text/plain": [
              "Text(0.5, 1.0, 'The percentage of horsepower categories')"
            ]
          },
          "metadata": {},
          "execution_count": 89
        },
        {
          "output_type": "display_data",
          "data": {
            "text/plain": [
              "<Figure size 432x288 with 1 Axes>"
            ],
            "image/png": "[encoded data removed]"
          },
          "metadata": {}
        }
      ]
    },
    {
      "cell_type": "markdown",
      "source": [
        "**As a summary to question 6, first of all we created a new colummn called 'Horsepower Category' in order to classify which category a car belongs to with the help of using the for loop function , if and else by making a condition number for the horsepower that classifies horsepower as 'high horsepower' , 'Mid horsepower',and ' low horsepower'. Finally, using a pie chart that shows the percentage of each category. Most of the cars were implmented in the 'Mid Category'.**"
      ],
      "metadata": {
        "id": "-SUwm6fD_ThX"
      }
    },
    {
      "cell_type": "markdown",
      "source": [
        "**Ques 9: Which Gear model was sold the most over the years?**"
      ],
      "metadata": {
        "id": "LyNLOzhSE18x"
      }
    },
    {
      "cell_type": "code",
      "source": [
        "AN.figure(figsize = (20,12))\n",
        "AN.subplot(1,2,1)\n",
        "labels = df['gear'].value_counts().keys()\n",
        "colors =cm.Accent(np.arange(6)/6)\n",
        "AN.pie(x=df['gear'].value_counts(), labels= labels,\n",
        "       colors=[\"orange\",\"yellow\",\"blue\"], shadow=True,\n",
        "       autopct='%1.1f%%')\n",
        "AN.title('The percentage of Transmission gear used')\n",
        "AN.subplot(2,2,2)\n",
        "MSN.countplot(x = df['year'], hue = df['gear'] , palette='Set2')\n",
        "AN.show()"
      ],
      "metadata": {
        "colab": {
          "base_uri": "https://localhost:8080/",
          "height": 602
        },
        "id": "m17wVT4aM2xr",
        "outputId": "ead86886-8558-4788-d428-fba860a39e00"
      },
      "execution_count": null,
      "outputs": [
        {
          "output_type": "display_data",
          "data": {
            "text/plain": [
              "<Figure size 1440x864 with 2 Axes>"
            ],
            "image/png": "[encoded data removed]"
          },
          "metadata": {
            "needs_background": "light"
          }
        }
      ]
    },
    {
      "cell_type": "markdown",
      "source": [
        "**Upon concluding which transmission gear was used the most , a 'pie chart' and a 'Countplot' has been implemented , and it is observed that 'Manaual' gear transmission has the highest percentage compared to 'Automatic' and 'Semi-Automatic'**."
      ],
      "metadata": {
        "id": "V_JhlumPB5_B"
      }
    },
    {
      "cell_type": "markdown",
      "source": [
        "**Last but not least, as a Data Scientist our purpose is to analyze and visualize accurately to be able to give precise predictions and conclusions.**"
      ],
      "metadata": {
        "id": "5_-TQ0CTHe-s"
      }
    },
    {
      "cell_type": "markdown",
      "source": [
        "![Submission formmm.png](data:image/png;base64,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)"
      ],
      "metadata": {
        "id": "CF6iQqisGz_T"
      }
    },
    {
      "cell_type": "markdown",
      "source": [
        "**Done by : Ahmad Nasser**\n",
        "**Student Id: GH1024106**"
      ],
      "metadata": {
        "id": "ud7Hh2ouI5FK"
      }
    },
    {
      "cell_type": "code",
      "source": [
        "!jupyter nbconvert --to html AI_AND_APPLICATIONS_FINAL.ipynb"
      ],
      "metadata": {
        "id": "f-YyL4zO54bI",
        "colab": {
          "base_uri": "https://localhost:8080/"
        },
        "outputId": "13ecf007-9143-4f99-b0ce-370c02455cf1"
      },
      "execution_count": null,
      "outputs": [
        {
          "output_type": "stream",
          "name": "stdout",
          "text": [
            "[NbConvertApp] Converting notebook AI_AND_APPLICATIONS_FINAL.ipynb to html\n",
            "[NbConvertApp] Writing 906485 bytes to AI_AND_APPLICATIONS_FINAL.html\n"
          ]
        }
      ]
    },
    {
      "cell_type": "code",
      "source": [],
      "metadata": {
        "id": "cjWAJNSG6zYz"
      },
      "execution_count": null,
      "outputs": []
    }
  ]
}