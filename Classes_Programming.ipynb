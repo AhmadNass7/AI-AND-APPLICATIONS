{
  "nbformat": 4,
  "nbformat_minor": 0,
  "metadata": {
    "colab": {
      "provenance": [],
      "authorship_tag": "ABX9TyMmlJkIzUgRV861yxTSu14K",
      "include_colab_link": true
    },
    "kernelspec": {
      "name": "python3",
      "display_name": "Python 3"
    },
    "language_info": {
      "name": "python"
    }
  },
  "cells": [
    {
      "cell_type": "markdown",
      "metadata": {
        "id": "view-in-github",
        "colab_type": "text"
      },
      "source": [
        "<a href=\"https://colab.research.google.com/github/AhmadNass7/Gisma/blob/main/Classes_Programming.ipynb\" target=\"_parent\"><img src=\"https://colab.research.google.com/assets/colab-badge.svg\" alt=\"Open In Colab\"/></a>"
      ]
    },
    {
      "cell_type": "code",
      "execution_count": 1,
      "metadata": {
        "id": "CG6v90RfUyOe"
      },
      "outputs": [],
      "source": [
        "class person:\n",
        "  \"\"\"\n",
        "  an example of \n",
        "  \"\"\"\n",
        "  population=0\n",
        "\n",
        "\n",
        "\n",
        "  @classmethod\n",
        "  def increment_population(cls):\n",
        "     cls.population +=1\n",
        "  @staticmethod\n",
        "  def greetings():\n",
        "      print(f\"Hello human!\")   \n",
        "\n",
        "  def __init__(self, name=\"Ahmad\", age= 18):\n",
        "    self.name= name\n",
        "    self.age= age\n",
        "    self.adress= \"Hay l leja\"\n",
        "    person.population +=1\n",
        "    person.increment_population()\n",
        "    person.greetings()\n",
        "\n",
        "\n",
        "\n",
        "  def __str__(self):\n",
        "    return f\"name:{self.name} , age: {self.age}\" \n",
        "    \n",
        "                    # class attributes are name and age \n",
        "                    # 1st variable is self , name ,and age "
      ]
    },
    {
      "cell_type": "code",
      "source": [
        "p1= person(\"Ahmad\", 26)  # here we didnt pass the self "
      ],
      "metadata": {
        "colab": {
          "base_uri": "https://localhost:8080/"
        },
        "id": "g7oA6xVFZKgv",
        "outputId": "2753c3b7-f9f4-49b3-8e41-51756159cd62"
      },
      "execution_count": 2,
      "outputs": [
        {
          "output_type": "stream",
          "name": "stdout",
          "text": [
            "Hello human!\n"
          ]
        }
      ]
    },
    {
      "cell_type": "code",
      "source": [
        "print(p1.age)"
      ],
      "metadata": {
        "colab": {
          "base_uri": "https://localhost:8080/"
        },
        "id": "JHLg_R25ZKhg",
        "outputId": "3ccb550c-6fde-4c40-ac9a-67eddb02e329"
      },
      "execution_count": 3,
      "outputs": [
        {
          "output_type": "stream",
          "name": "stdout",
          "text": [
            "26\n"
          ]
        }
      ]
    },
    {
      "cell_type": "code",
      "source": [
        "print(p1.age,p1.name)   # self is the p1 not the person"
      ],
      "metadata": {
        "colab": {
          "base_uri": "https://localhost:8080/"
        },
        "id": "6G1KKPG7ZKqP",
        "outputId": "fc96184a-5712-4385-e438-0df0d165f7b0"
      },
      "execution_count": 4,
      "outputs": [
        {
          "output_type": "stream",
          "name": "stdout",
          "text": [
            "26 Ahmad\n"
          ]
        }
      ]
    },
    {
      "cell_type": "code",
      "source": [
        "p2 = person()\n",
        "persons = []\n",
        "for name, age in [(\"alex\", 25), (\"Ali\", 24)]:\n",
        "  persons.append(person(name,age))"
      ],
      "metadata": {
        "colab": {
          "base_uri": "https://localhost:8080/"
        },
        "id": "Tn_WKp2Jj6W-",
        "outputId": "e289ebb0-ec1e-47ae-a58b-8587819959f5"
      },
      "execution_count": 5,
      "outputs": [
        {
          "output_type": "stream",
          "name": "stdout",
          "text": [
            "Hello human!\n",
            "Hello human!\n",
            "Hello human!\n"
          ]
        }
      ]
    },
    {
      "cell_type": "code",
      "source": [
        "print(persons[0].name)"
      ],
      "metadata": {
        "colab": {
          "base_uri": "https://localhost:8080/"
        },
        "id": "aSVxrmZeU7FT",
        "outputId": "0dfa256c-49fd-435e-92ad-9ee8cc4c7f21"
      },
      "execution_count": 6,
      "outputs": [
        {
          "output_type": "stream",
          "name": "stdout",
          "text": [
            "alex\n"
          ]
        }
      ]
    },
    {
      "cell_type": "code",
      "source": [
        "p2= person()\n",
        "print(p1)\n",
        "print(p2)"
      ],
      "metadata": {
        "colab": {
          "base_uri": "https://localhost:8080/"
        },
        "id": "1koFvX-rU7F6",
        "outputId": "4e178d2d-4c37-4ef0-f265-1ac3b798286f"
      },
      "execution_count": 7,
      "outputs": [
        {
          "output_type": "stream",
          "name": "stdout",
          "text": [
            "Hello human!\n",
            "name:Ahmad , age: 26\n",
            "name:Ahmad , age: 18\n"
          ]
        }
      ]
    },
    {
      "cell_type": "code",
      "source": [
        "p3= p1\n",
        "p3.name= \"Sufiiiiiiiiiiiiiiiiiiiiiiiiiiiiiiiiiiiiiiiiiiiiiiiiiiiiiiiiiiiiiiiiiiiiiiiiiiiiiiiiiiiiiiiiiiiiiiiiiiiiiiiiiiiiiiiii\""
      ],
      "metadata": {
        "id": "0xhu1NIQU7Jh"
      },
      "execution_count": 8,
      "outputs": []
    },
    {
      "cell_type": "code",
      "source": [
        "print(p1.name, p3.name) # it makes a short cut thats why its a duplicate "
      ],
      "metadata": {
        "colab": {
          "base_uri": "https://localhost:8080/"
        },
        "id": "LSbGSYxhU7KR",
        "outputId": "547c4397-9327-4ac4-f03b-5199a57fed96"
      },
      "execution_count": 9,
      "outputs": [
        {
          "output_type": "stream",
          "name": "stdout",
          "text": [
            "Sufiiiiiiiiiiiiiiiiiiiiiiiiiiiiiiiiiiiiiiiiiiiiiiiiiiiiiiiiiiiiiiiiiiiiiiiiiiiiiiiiiiiiiiiiiiiiiiiiiiiiiiiiiiiiiiiii Sufiiiiiiiiiiiiiiiiiiiiiiiiiiiiiiiiiiiiiiiiiiiiiiiiiiiiiiiiiiiiiiiiiiiiiiiiiiiiiiiiiiiiiiiiiiiiiiiiiiiiiiiiiiiiiiiii\n"
          ]
        }
      ]
    },
    {
      "cell_type": "code",
      "source": [
        "import copy\n",
        "\n",
        "\n",
        "p4=copy.copy(p1)\n",
        "p4.name=\"Ahmad\"\n",
        "\n",
        "print(p1.name, p4.name)"
      ],
      "metadata": {
        "colab": {
          "base_uri": "https://localhost:8080/"
        },
        "id": "Gvpynh1FU7Nt",
        "outputId": "0f9b6ac6-a89d-4e23-81e6-48c6c8471a30"
      },
      "execution_count": 10,
      "outputs": [
        {
          "output_type": "stream",
          "name": "stdout",
          "text": [
            "Sufiiiiiiiiiiiiiiiiiiiiiiiiiiiiiiiiiiiiiiiiiiiiiiiiiiiiiiiiiiiiiiiiiiiiiiiiiiiiiiiiiiiiiiiiiiiiiiiiiiiiiiiiiiiiiiiii Ahmad\n"
          ]
        }
      ]
    },
    {
      "cell_type": "code",
      "source": [
        "\n",
        "import copy\n",
        "\n",
        "\n",
        "p4=copy.deepcopy(p1) # deep copy is more accurate \n",
        "p4.name=\"Ahmad\"\n",
        "\n",
        "print(p1.name, p4.name)"
      ],
      "metadata": {
        "colab": {
          "base_uri": "https://localhost:8080/"
        },
        "id": "aeKd0IFvU7OY",
        "outputId": "a4ea2b35-b9d4-405c-a590-46b1b21c1758"
      },
      "execution_count": 11,
      "outputs": [
        {
          "output_type": "stream",
          "name": "stdout",
          "text": [
            "Sufiiiiiiiiiiiiiiiiiiiiiiiiiiiiiiiiiiiiiiiiiiiiiiiiiiiiiiiiiiiiiiiiiiiiiiiiiiiiiiiiiiiiiiiiiiiiiiiiiiiiiiiiiiiiiiiii Ahmad\n"
          ]
        }
      ]
    },
    {
      "cell_type": "code",
      "source": [
        "p1.name1= \"old\" # it dosent give error here for only p1 \n",
        "print(p1.name)"
      ],
      "metadata": {
        "colab": {
          "base_uri": "https://localhost:8080/"
        },
        "id": "bhCI5kXtU7R5",
        "outputId": "8abe608e-51b6-4f7f-ff6b-1b5c4758be67"
      },
      "execution_count": 12,
      "outputs": [
        {
          "output_type": "stream",
          "name": "stdout",
          "text": [
            "Sufiiiiiiiiiiiiiiiiiiiiiiiiiiiiiiiiiiiiiiiiiiiiiiiiiiiiiiiiiiiiiiiiiiiiiiiiiiiiiiiiiiiiiiiiiiiiiiiiiiiiiiiiiiiiiiiii\n"
          ]
        }
      ]
    },
    {
      "cell_type": "code",
      "source": [
        "print(p1) # then we insert "
      ],
      "metadata": {
        "colab": {
          "base_uri": "https://localhost:8080/"
        },
        "id": "YEVDyEbeU7Sm",
        "outputId": "f0e1be96-0df2-4056-f9df-7f63ec52b1ad"
      },
      "execution_count": 13,
      "outputs": [
        {
          "output_type": "stream",
          "name": "stdout",
          "text": [
            "name:Sufiiiiiiiiiiiiiiiiiiiiiiiiiiiiiiiiiiiiiiiiiiiiiiiiiiiiiiiiiiiiiiiiiiiiiiiiiiiiiiiiiiiiiiiiiiiiiiiiiiiiiiiiiiiiiiiii , age: 26\n"
          ]
        }
      ]
    },
    {
      "cell_type": "code",
      "source": [
        "# to print p1 normally we inseret above def str okay"
      ],
      "metadata": {
        "id": "T16TqAHqU7V8"
      },
      "execution_count": 14,
      "outputs": []
    },
    {
      "cell_type": "code",
      "source": [],
      "metadata": {
        "id": "EwqKI7tLU7Wk"
      },
      "execution_count": 14,
      "outputs": []
    },
    {
      "cell_type": "code",
      "source": [
        "print(person.__doc__) # writing \"\"\"\""
      ],
      "metadata": {
        "colab": {
          "base_uri": "https://localhost:8080/"
        },
        "id": "x_d7hK7MU7aJ",
        "outputId": "46817f38-1eec-4d7f-c591-4f30fc4826e6"
      },
      "execution_count": 15,
      "outputs": [
        {
          "output_type": "stream",
          "name": "stdout",
          "text": [
            "\n",
            "  an example of \n",
            "  \n"
          ]
        }
      ]
    },
    {
      "cell_type": "code",
      "source": [
        "del p1"
      ],
      "metadata": {
        "id": "x2QSHWLpU7aw"
      },
      "execution_count": 16,
      "outputs": []
    },
    {
      "cell_type": "code",
      "source": [
        "print(p3.__dict__)"
      ],
      "metadata": {
        "colab": {
          "base_uri": "https://localhost:8080/"
        },
        "id": "bPqLQ_FQU7eC",
        "outputId": "101b44eb-43b0-4bcb-c7c6-51d9b61b6d23"
      },
      "execution_count": 17,
      "outputs": [
        {
          "output_type": "stream",
          "name": "stdout",
          "text": [
            "{'name': 'Sufiiiiiiiiiiiiiiiiiiiiiiiiiiiiiiiiiiiiiiiiiiiiiiiiiiiiiiiiiiiiiiiiiiiiiiiiiiiiiiiiiiiiiiiiiiiiiiiiiiiiiiiiiiiiiiiii', 'age': 26, 'adress': 'Hay l leja', 'name1': 'old'}\n"
          ]
        }
      ]
    },
    {
      "cell_type": "code",
      "source": [
        "print(p3.__dict__.values())\n"
      ],
      "metadata": {
        "colab": {
          "base_uri": "https://localhost:8080/"
        },
        "id": "q1TU01t7U7eq",
        "outputId": "37dbaaf6-eca8-4fb5-f49f-d4593936c33d"
      },
      "execution_count": 18,
      "outputs": [
        {
          "output_type": "stream",
          "name": "stdout",
          "text": [
            "dict_values(['Sufiiiiiiiiiiiiiiiiiiiiiiiiiiiiiiiiiiiiiiiiiiiiiiiiiiiiiiiiiiiiiiiiiiiiiiiiiiiiiiiiiiiiiiiiiiiiiiiiiiiiiiiiiiiiiiiii', 26, 'Hay l leja', 'old'])\n"
          ]
        }
      ]
    },
    {
      "cell_type": "code",
      "source": [
        "## if we made a population , even if we insert del its give us the pop of all "
      ],
      "metadata": {
        "id": "KRjDbtSrU7ie"
      },
      "execution_count": 19,
      "outputs": []
    },
    {
      "cell_type": "code",
      "source": [
        "print(person.population)"
      ],
      "metadata": {
        "colab": {
          "base_uri": "https://localhost:8080/"
        },
        "id": "XMn7jrH_U7jG",
        "outputId": "cdaf5de1-815c-4b6b-8ab4-98eec74e358c"
      },
      "execution_count": 20,
      "outputs": [
        {
          "output_type": "stream",
          "name": "stdout",
          "text": [
            "10\n"
          ]
        }
      ]
    },
    {
      "cell_type": "code",
      "source": [
        "class person:\n",
        "  def __init__(self,name,age):\n",
        "    self._name= name\n",
        "    self.set_age(age)\n",
        "\n",
        "\n",
        "    \n",
        "  def get_age(self):\n",
        "    return self._age\n",
        "    \n",
        "  def set_age(self,new_age):\n",
        "    if (isinstance(new_age,int)):\n",
        "      if new_age > 0 and new_age < 200:\n",
        "        self._age= new_age\n",
        "      else:\n",
        "          print(f\"age{new_age} is not invalid range\")\n",
        "    else:\n",
        "         print(\"age should be integer!\")   \n",
        "           # use underscoere for private attributes"
      ],
      "metadata": {
        "id": "A6TBQhUJU7mo"
      },
      "execution_count": 27,
      "outputs": []
    },
    {
      "cell_type": "code",
      "source": [
        "p1=person(\"Ahmad\",97)"
      ],
      "metadata": {
        "id": "EGOi5PLQU7nW"
      },
      "execution_count": 28,
      "outputs": []
    },
    {
      "cell_type": "code",
      "source": [
        "p1= person(\"Ahmad\", 97)\n",
        "p2= person(\"noha\",1000)"
      ],
      "metadata": {
        "colab": {
          "base_uri": "https://localhost:8080/"
        },
        "id": "ZhfdT7vbU7ui",
        "outputId": "dd16804b-b143-4382-ac60-89f71a53531d"
      },
      "execution_count": 29,
      "outputs": [
        {
          "output_type": "stream",
          "name": "stdout",
          "text": [
            "age1000 is not invalid range\n"
          ]
        }
      ]
    },
    {
      "cell_type": "code",
      "source": [
        "p2= person(\"noha\",1000)"
      ],
      "metadata": {
        "colab": {
          "base_uri": "https://localhost:8080/"
        },
        "id": "0WJyvzMyU7vV",
        "outputId": "b00d2972-eb75-4996-db7e-19dc374b288e"
      },
      "execution_count": 30,
      "outputs": [
        {
          "output_type": "stream",
          "name": "stdout",
          "text": [
            "age1000 is not invalid range\n"
          ]
        }
      ]
    },
    {
      "cell_type": "code",
      "source": [
        "p1._name= 96\n",
        "print(p1.get_age())# dont forget the ()\n",
        "\n",
        "p1.set_age(\"30\")\n",
        "print(p1.get_age())"
      ],
      "metadata": {
        "colab": {
          "base_uri": "https://localhost:8080/"
        },
        "id": "iRc2l4EcU7zH",
        "outputId": "b7b13500-b4e9-48f8-baeb-23321555569d"
      },
      "execution_count": 31,
      "outputs": [
        {
          "output_type": "stream",
          "name": "stdout",
          "text": [
            "97\n",
            "age should be integer!\n",
            "97\n"
          ]
        }
      ]
    },
    {
      "cell_type": "code",
      "source": [],
      "metadata": {
        "id": "nf_B9vKvzbSi"
      },
      "execution_count": 32,
      "outputs": []
    },
    {
      "cell_type": "code",
      "source": [],
      "metadata": {
        "id": "JjEUhpLjzbYn"
      },
      "execution_count": 32,
      "outputs": []
    },
    {
      "cell_type": "code",
      "source": [
        "class personII:\n",
        "  def __init__(self,name,age):\n",
        "    self._name= name\n",
        "    self.age=age\n",
        "\n",
        "\n",
        "  @property # setter\n",
        "  def age(self):\n",
        "    return self._age\n",
        "\n",
        "\n",
        "  @age.setter# getter\n",
        "  def age(self, new_age):      \n",
        "    if (isinstance(new_age,int)):\n",
        "      if new_age > 0 and new_age < 200:\n",
        "        self._age= new_age\n",
        "      else:\n",
        "          print(f\"age{new_age} is not invalid range\")\n",
        "    else:\n",
        "         print(\"age should be integer!\")   \n",
        "           # use underscoere for private attributes"
      ],
      "metadata": {
        "id": "KEJUKsRgzbZY"
      },
      "execution_count": 40,
      "outputs": []
    },
    {
      "cell_type": "code",
      "source": [
        "ahmad= personII(\"Ahmad\", 10)\n",
        "print(ahmad.age)\n",
        "ahmad.age= 20000"
      ],
      "metadata": {
        "colab": {
          "base_uri": "https://localhost:8080/"
        },
        "id": "Rl860BQp2qWL",
        "outputId": "c96a3382-5ad1-4de1-c31a-4216f38198e4"
      },
      "execution_count": 41,
      "outputs": [
        {
          "output_type": "stream",
          "name": "stdout",
          "text": [
            "10\n",
            "age20000 is not invalid range\n"
          ]
        }
      ]
    },
    {
      "cell_type": "code",
      "source": [],
      "metadata": {
        "id": "iKi66GX44ptT"
      },
      "execution_count": null,
      "outputs": []
    }
  ]
}