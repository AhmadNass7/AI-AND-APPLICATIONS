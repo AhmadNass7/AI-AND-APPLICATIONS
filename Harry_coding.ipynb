{
  "nbformat": 4,
  "nbformat_minor": 0,
  "metadata": {
    "colab": {
      "provenance": [],
      "authorship_tag": "ABX9TyMjqsMVMp1Q4TefsskWsFAZ",
      "include_colab_link": true
    },
    "kernelspec": {
      "name": "python3",
      "display_name": "Python 3"
    },
    "language_info": {
      "name": "python"
    }
  },
  "cells": [
    {
      "cell_type": "markdown",
      "metadata": {
        "id": "view-in-github",
        "colab_type": "text"
      },
      "source": [
        "<a href=\"https://colab.research.google.com/github/AhmadNass7/Gisma/blob/main/Harry_coding.ipynb\" target=\"_parent\"><img src=\"https://colab.research.google.com/assets/colab-badge.svg\" alt=\"Open In Colab\"/></a>"
      ]
    },
    {
      "cell_type": "code",
      "execution_count": 31,
      "metadata": {
        "colab": {
          "base_uri": "https://localhost:8080/"
        },
        "id": "8if30-w1lgEK",
        "outputId": "82533d15-37ba-484c-b452-acf5d8ca0b6e"
      },
      "outputs": [
        {
          "output_type": "stream",
          "name": "stdout",
          "text": [
            "17\n",
            "AHMAD !!!! NASSER\n",
            "ahmad !!!! nasser\n"
          ]
        }
      ],
      "source": [
        "s= \"Ahmad !!!! Nasser\"\n",
        "print(len(a))\n",
        "print(a.upper())\n",
        "print(a.lower())"
      ]
    },
    {
      "cell_type": "code",
      "source": [
        "print(a.rstrip(\"!\"))"
      ],
      "metadata": {
        "colab": {
          "base_uri": "https://localhost:8080/"
        },
        "id": "VZu6Sy-IlzEa",
        "outputId": "5230b612-bcca-487d-a628-84ccf343847d"
      },
      "execution_count": 32,
      "outputs": [
        {
          "output_type": "stream",
          "name": "stdout",
          "text": [
            "Ahmad !!!! Nasser\n"
          ]
        }
      ]
    },
    {
      "cell_type": "code",
      "source": [
        "print(a.replace(\"Ahmad!\",\"John\"))"
      ],
      "metadata": {
        "colab": {
          "base_uri": "https://localhost:8080/"
        },
        "id": "mY6Ko9DulzIw",
        "outputId": "94e3bc43-442f-488c-9eec-9f1bef7794b5"
      },
      "execution_count": 33,
      "outputs": [
        {
          "output_type": "stream",
          "name": "stdout",
          "text": [
            "Ahmad !!!! Nasser\n"
          ]
        }
      ]
    },
    {
      "cell_type": "code",
      "source": [
        "print(a.split(\" \"))"
      ],
      "metadata": {
        "colab": {
          "base_uri": "https://localhost:8080/"
        },
        "id": "SQww8C7_lzJi",
        "outputId": "222d00a4-516b-40a9-e4e9-c5c033ac5db5"
      },
      "execution_count": 34,
      "outputs": [
        {
          "output_type": "stream",
          "name": "stdout",
          "text": [
            "['Ahmad', '!!!!', 'Nasser']\n"
          ]
        }
      ]
    },
    {
      "cell_type": "code",
      "source": [
        "heading= \"Introduction to Python\"\n",
        "print(heading.center(200))"
      ],
      "metadata": {
        "colab": {
          "base_uri": "https://localhost:8080/"
        },
        "id": "onogh_NClzOO",
        "outputId": "b0ebfffa-9cbb-4c3a-9f89-7ede6d59dbbd"
      },
      "execution_count": 35,
      "outputs": [
        {
          "output_type": "stream",
          "name": "stdout",
          "text": [
            "                                                                                         Introduction to Python                                                                                         \n"
          ]
        }
      ]
    },
    {
      "cell_type": "code",
      "source": [
        "a= int(input(\"Enter you age\"))\n",
        "\n",
        "if(a>18):\n",
        "  print(\"You can Drive\")\n",
        "else:\n",
        "  print(\"Youre under age\")  \n"
      ],
      "metadata": {
        "colab": {
          "base_uri": "https://localhost:8080/"
        },
        "id": "TXTjXJjllzO_",
        "outputId": "3a9eb9b5-a3fe-40f5-a754-d6851d651238"
      },
      "execution_count": 38,
      "outputs": [
        {
          "output_type": "stream",
          "name": "stdout",
          "text": [
            "Enter you age21\n",
            "You can Drive\n"
          ]
        }
      ]
    },
    {
      "cell_type": "code",
      "source": [
        "a= int(input(\"Enter you age\"))\n",
        "print(\"Your age is\", a)\n",
        "if(a>18):\n",
        "  print(\"You can Drive\")\n",
        "else:\n",
        "  print(\"Youre under age\")  \n"
      ],
      "metadata": {
        "colab": {
          "base_uri": "https://localhost:8080/"
        },
        "id": "irhr0eMylzT5",
        "outputId": "6c8f21ae-84b6-44b8-f511-203172be5cd2"
      },
      "execution_count": 40,
      "outputs": [
        {
          "output_type": "stream",
          "name": "stdout",
          "text": [
            "Enter you age21\n",
            "Your age is 21\n",
            "You can Drive\n"
          ]
        }
      ]
    },
    {
      "cell_type": "code",
      "source": [
        "num= 0\n",
        "if(num<0):\n",
        "  print(\"you cannot drive\")\n",
        "elif(num>0):\n",
        "  if(num>=10):\n",
        "    print(\"Yay we made it\")\n",
        "  if(num<=10):\n",
        "    print(\"we didnt made it \")\n",
        "else:\n",
        "  print(\"Ayre bil aalam\")     "
      ],
      "metadata": {
        "colab": {
          "base_uri": "https://localhost:8080/"
        },
        "id": "oJJCxqq5x9YI",
        "outputId": "198240b0-f984-4ae6-cd22-dcfcd927771d"
      },
      "execution_count": 47,
      "outputs": [
        {
          "output_type": "stream",
          "name": "stdout",
          "text": [
            "Ayre bil aalam\n"
          ]
        }
      ]
    },
    {
      "cell_type": "code",
      "source": [
        "a=7\n",
        "if(a<9):\n",
        "  print(\"Good morning sir\")\n",
        "elif(a>15):\n",
        "  if(a<15):\n",
        "    print(\"Good afternoon Sir\")\n",
        "  if(a>=15):\n",
        "    print(\"Good evening Sir\")\n",
        "else:\n",
        "  print(\"missed\")    \n",
        "   "
      ],
      "metadata": {
        "colab": {
          "base_uri": "https://localhost:8080/"
        },
        "id": "rwfHPCpB4qFv",
        "outputId": "566c7556-98d6-41d2-c911-7832727de7a1"
      },
      "execution_count": 79,
      "outputs": [
        {
          "output_type": "stream",
          "name": "stdout",
          "text": [
            "Good morning sir\n"
          ]
        }
      ]
    },
    {
      "cell_type": "code",
      "source": [
        "import time\n",
        "\n",
        "timestamp= time.strftime('H%:M%:S%')\n",
        "print(timestamp)"
      ],
      "metadata": {
        "colab": {
          "base_uri": "https://localhost:8080/"
        },
        "id": "lscUCW1B6hLI",
        "outputId": "bc43d2b9-1396-4903-e9c5-2257aa5e98d4"
      },
      "execution_count": 80,
      "outputs": [
        {
          "output_type": "stream",
          "name": "stdout",
          "text": [
            "H%:M%:S%\n"
          ]
        }
      ]
    },
    {
      "cell_type": "code",
      "source": [],
      "metadata": {
        "id": "5M748DNK_IoT"
      },
      "execution_count": null,
      "outputs": []
    }
  ]
}