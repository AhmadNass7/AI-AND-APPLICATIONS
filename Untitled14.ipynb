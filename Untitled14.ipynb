{
  "nbformat": 4,
  "nbformat_minor": 0,
  "metadata": {
    "colab": {
      "provenance": [],
      "authorship_tag": "ABX9TyMuREhNAxQQ9c00OmH/V4tx",
      "include_colab_link": true
    },
    "kernelspec": {
      "name": "python3",
      "display_name": "Python 3"
    },
    "language_info": {
      "name": "python"
    }
  },
  "cells": [
    {
      "cell_type": "markdown",
      "metadata": {
        "id": "view-in-github",
        "colab_type": "text"
      },
      "source": [
        "<a href=\"https://colab.research.google.com/github/AhmadNass7/Gisma/blob/main/Untitled14.ipynb\" target=\"_parent\"><img src=\"https://colab.research.google.com/assets/colab-badge.svg\" alt=\"Open In Colab\"/></a>"
      ]
    },
    {
      "cell_type": "code",
      "execution_count": 6,
      "metadata": {
        "id": "U_eWXnMGQskG"
      },
      "outputs": [],
      "source": []
    },
    {
      "cell_type": "code",
      "source": [
        "\"hello\".upper()"
      ],
      "metadata": {
        "colab": {
          "base_uri": "https://localhost:8080/",
          "height": 36
        },
        "id": "k3NuPCAIQuF0",
        "outputId": "6ddbbd14-049d-453e-c048-ea3404dfad70"
      },
      "execution_count": 7,
      "outputs": [
        {
          "output_type": "execute_result",
          "data": {
            "text/plain": [
              "'HELLO'"
            ],
            "application/vnd.google.colaboratory.intrinsic+json": {
              "type": "string"
            }
          },
          "metadata": {},
          "execution_count": 7
        }
      ]
    },
    {
      "cell_type": "code",
      "source": [
        "s=\"today it weather is raining!\"\n",
        "\n"
      ],
      "metadata": {
        "id": "AvkDTM8qREBx"
      },
      "execution_count": 8,
      "outputs": []
    },
    {
      "cell_type": "code",
      "source": [
        "s.replace('i','!')"
      ],
      "metadata": {
        "colab": {
          "base_uri": "https://localhost:8080/",
          "height": 36
        },
        "id": "I9nBBCfjVQ0P",
        "outputId": "75a87081-9c99-486a-f7ea-e33416d3378a"
      },
      "execution_count": 9,
      "outputs": [
        {
          "output_type": "execute_result",
          "data": {
            "text/plain": [
              "'today !t weather !s ra!n!ng!'"
            ],
            "application/vnd.google.colaboratory.intrinsic+json": {
              "type": "string"
            }
          },
          "metadata": {},
          "execution_count": 9
        }
      ]
    },
    {
      "cell_type": "code",
      "source": [
        "s.split(\" \")"
      ],
      "metadata": {
        "colab": {
          "base_uri": "https://localhost:8080/"
        },
        "id": "PdsyZK1OSR35",
        "outputId": "5c10f0d7-7eb8-4495-98a3-37319a79325f"
      },
      "execution_count": 10,
      "outputs": [
        {
          "output_type": "execute_result",
          "data": {
            "text/plain": [
              "['today', 'it', 'weather', 'is', 'raining!']"
            ]
          },
          "metadata": {},
          "execution_count": 10
        }
      ]
    },
    {
      "cell_type": "code",
      "source": [
        "s.split(\"i\")"
      ],
      "metadata": {
        "colab": {
          "base_uri": "https://localhost:8080/"
        },
        "id": "PQWUO4l1SUmO",
        "outputId": "c66c1e1b-dc5d-4170-f3b1-c005dd0cebd3"
      },
      "execution_count": 11,
      "outputs": [
        {
          "output_type": "execute_result",
          "data": {
            "text/plain": [
              "['today ', 't weather ', 's ra', 'n', 'ng!']"
            ]
          },
          "metadata": {},
          "execution_count": 11
        }
      ]
    },
    {
      "cell_type": "code",
      "source": [
        "s.count(\"i\")\n"
      ],
      "metadata": {
        "colab": {
          "base_uri": "https://localhost:8080/"
        },
        "id": "IFLkeyjtSV-b",
        "outputId": "1ca0739c-5c77-4d9f-d840-61412138ebe1"
      },
      "execution_count": 12,
      "outputs": [
        {
          "output_type": "execute_result",
          "data": {
            "text/plain": [
              "4"
            ]
          },
          "metadata": {},
          "execution_count": 12
        }
      ]
    },
    {
      "cell_type": "code",
      "source": [
        "s.find(\"it\")"
      ],
      "metadata": {
        "colab": {
          "base_uri": "https://localhost:8080/"
        },
        "id": "PIquROovSgED",
        "outputId": "37405695-f084-4c2e-b9b7-bf8bdcab94d4"
      },
      "execution_count": 13,
      "outputs": [
        {
          "output_type": "execute_result",
          "data": {
            "text/plain": [
              "6"
            ]
          },
          "metadata": {},
          "execution_count": 13
        }
      ]
    },
    {
      "cell_type": "code",
      "source": [
        "name = \"Ahmad\"\n",
        "print(f\"my name is {name}\")"
      ],
      "metadata": {
        "colab": {
          "base_uri": "https://localhost:8080/"
        },
        "id": "I8tByyO-TkW4",
        "outputId": "26ade568-0cb2-451d-b286-c550f3054fc8"
      },
      "execution_count": 14,
      "outputs": [
        {
          "output_type": "stream",
          "name": "stdout",
          "text": [
            "my name is Ahmad\n"
          ]
        }
      ]
    },
    {
      "cell_type": "code",
      "source": [
        "s.replace('i','!')"
      ],
      "metadata": {
        "colab": {
          "base_uri": "https://localhost:8080/",
          "height": 36
        },
        "id": "ZH6wgrUkUggQ",
        "outputId": "e086a28e-2142-4083-a2b5-7d6c460bdfd9"
      },
      "execution_count": 15,
      "outputs": [
        {
          "output_type": "execute_result",
          "data": {
            "text/plain": [
              "'today !t weather !s ra!n!ng!'"
            ],
            "application/vnd.google.colaboratory.intrinsic+json": {
              "type": "string"
            }
          },
          "metadata": {},
          "execution_count": 15
        }
      ]
    },
    {
      "cell_type": "code",
      "source": [
        "s[0]"
      ],
      "metadata": {
        "colab": {
          "base_uri": "https://localhost:8080/",
          "height": 36
        },
        "id": "gOaujsnUVsVa",
        "outputId": "3773dc8a-5bf9-4c6d-c0b3-09be55e9847d"
      },
      "execution_count": 16,
      "outputs": [
        {
          "output_type": "execute_result",
          "data": {
            "text/plain": [
              "'t'"
            ],
            "application/vnd.google.colaboratory.intrinsic+json": {
              "type": "string"
            }
          },
          "metadata": {},
          "execution_count": 16
        }
      ]
    },
    {
      "cell_type": "code",
      "source": [
        "s[0],s[6]"
      ],
      "metadata": {
        "colab": {
          "base_uri": "https://localhost:8080/"
        },
        "id": "KflGT3djWEUo",
        "outputId": "cc31b8ef-f10a-4714-d1c5-52a294bd4d7a"
      },
      "execution_count": 17,
      "outputs": [
        {
          "output_type": "execute_result",
          "data": {
            "text/plain": [
              "('t', 'i')"
            ]
          },
          "metadata": {},
          "execution_count": 17
        }
      ]
    },
    {
      "cell_type": "code",
      "source": [
        "name= False \n",
        "print (name is not None)  ## None dosesnt exist "
      ],
      "metadata": {
        "colab": {
          "base_uri": "https://localhost:8080/"
        },
        "id": "R9PfZ66DWO5s",
        "outputId": "547afc69-a6e9-42f9-dcf8-b593411c7ae0"
      },
      "execution_count": 18,
      "outputs": [
        {
          "output_type": "stream",
          "name": "stdout",
          "text": [
            "True\n"
          ]
        }
      ]
    },
    {
      "cell_type": "code",
      "source": [
        "best3 = (\"Reza\", \"Kumar\", \"Mehran\")\n",
        "print(best3)\n",
        "best3[2]=(\"John\")   ## john doesnt exist\n"
      ],
      "metadata": {
        "colab": {
          "base_uri": "https://localhost:8080/",
          "height": 226
        },
        "id": "bTuUYS9NXTqy",
        "outputId": "82c6d1b9-cdd9-4a34-c623-6f1d2b091811"
      },
      "execution_count": 21,
      "outputs": [
        {
          "output_type": "stream",
          "name": "stdout",
          "text": [
            "('Reza', 'Kumar', 'Mehran')\n"
          ]
        },
        {
          "output_type": "error",
          "ename": "TypeError",
          "evalue": "ignored",
          "traceback": [
            "\u001b[0;31m---------------------------------------------------------------------------\u001b[0m",
            "\u001b[0;31mTypeError\u001b[0m                                 Traceback (most recent call last)",
            "\u001b[0;32m<ipython-input-21-4cd27436ab64>\u001b[0m in \u001b[0;36m<module>\u001b[0;34m\u001b[0m\n\u001b[1;32m      1\u001b[0m \u001b[0mbest3\u001b[0m \u001b[0;34m=\u001b[0m \u001b[0;34m(\u001b[0m\u001b[0;34m\"Reza\"\u001b[0m\u001b[0;34m,\u001b[0m \u001b[0;34m\"Kumar\"\u001b[0m\u001b[0;34m,\u001b[0m \u001b[0;34m\"Mehran\"\u001b[0m\u001b[0;34m)\u001b[0m\u001b[0;34m\u001b[0m\u001b[0;34m\u001b[0m\u001b[0m\n\u001b[1;32m      2\u001b[0m \u001b[0mprint\u001b[0m\u001b[0;34m(\u001b[0m\u001b[0mbest3\u001b[0m\u001b[0;34m)\u001b[0m\u001b[0;34m\u001b[0m\u001b[0;34m\u001b[0m\u001b[0m\n\u001b[0;32m----> 3\u001b[0;31m \u001b[0mbest3\u001b[0m\u001b[0;34m[\u001b[0m\u001b[0;36m2\u001b[0m\u001b[0;34m]\u001b[0m\u001b[0;34m=\u001b[0m\u001b[0;34m(\u001b[0m\u001b[0;34m\"John\"\u001b[0m\u001b[0;34m)\u001b[0m\u001b[0;34m\u001b[0m\u001b[0;34m\u001b[0m\u001b[0m\n\u001b[0m",
            "\u001b[0;31mTypeError\u001b[0m: 'tuple' object does not support item assignment"
          ]
        }
      ]
    },
    {
      "cell_type": "code",
      "source": [
        "best3 = (\"Reza\", \"Kumar\", (\"Mehran\", \"John\"))\n",
        "print(best3)\n",
        "print(len(best3))"
      ],
      "metadata": {
        "colab": {
          "base_uri": "https://localhost:8080/"
        },
        "id": "x856TuWJY0Nj",
        "outputId": "5481cf04-faae-494a-8bc8-274d6806eb5d"
      },
      "execution_count": 22,
      "outputs": [
        {
          "output_type": "stream",
          "name": "stdout",
          "text": [
            "('Reza', 'Kumar', ('Mehran', 'John'))\n",
            "3\n"
          ]
        }
      ]
    },
    {
      "cell_type": "code",
      "source": [
        "best3[2]"
      ],
      "metadata": {
        "colab": {
          "base_uri": "https://localhost:8080/"
        },
        "id": "pHtt5T69ZIWO",
        "outputId": "a3d9ef30-ae9d-4a3d-ed66-263eccd1c6fe"
      },
      "execution_count": 23,
      "outputs": [
        {
          "output_type": "execute_result",
          "data": {
            "text/plain": [
              "('Mehran', 'John')"
            ]
          },
          "metadata": {},
          "execution_count": 23
        }
      ]
    },
    {
      "cell_type": "code",
      "source": [
        "best_students = [\"Reza\", \"Kumar\", \"Mehran\", \"John\"]\n",
        "best3 = tuple(best_students[:3])\n",
        "print(best3)\n"
      ],
      "metadata": {
        "colab": {
          "base_uri": "https://localhost:8080/"
        },
        "id": "747ESAzzZTK4",
        "outputId": "f7bb86ad-7dfa-424d-b07d-30b72bde83d1"
      },
      "execution_count": 24,
      "outputs": [
        {
          "output_type": "stream",
          "name": "stdout",
          "text": [
            "('Reza', 'Kumar', 'Mehran')\n"
          ]
        }
      ]
    },
    {
      "cell_type": "code",
      "source": [
        "best3.count(\"Mehran\")\n"
      ],
      "metadata": {
        "colab": {
          "base_uri": "https://localhost:8080/"
        },
        "id": "n6lbg4TKaSnW",
        "outputId": "a9250b46-ec19-47c6-e84a-f6c3c983d04c"
      },
      "execution_count": 25,
      "outputs": [
        {
          "output_type": "execute_result",
          "data": {
            "text/plain": [
              "1"
            ]
          },
          "metadata": {},
          "execution_count": 25
        }
      ]
    },
    {
      "cell_type": "code",
      "source": [
        "best3.index(\"Mehran\")"
      ],
      "metadata": {
        "colab": {
          "base_uri": "https://localhost:8080/"
        },
        "id": "N2Iy88RMatOV",
        "outputId": "1378ad62-c092-4c27-b8d8-6e1d73ba7af1"
      },
      "execution_count": 26,
      "outputs": [
        {
          "output_type": "execute_result",
          "data": {
            "text/plain": [
              "2"
            ]
          },
          "metadata": {},
          "execution_count": 26
        }
      ]
    },
    {
      "cell_type": "code",
      "source": [
        "other_students = [\"Dib\", \"Suz\"] \n",
        "print(other_students)"
      ],
      "metadata": {
        "colab": {
          "base_uri": "https://localhost:8080/"
        },
        "id": "bZeXNVeUcXer",
        "outputId": "b86aadb2-fb58-4c44-afc9-1c3c003c6058"
      },
      "execution_count": 27,
      "outputs": [
        {
          "output_type": "stream",
          "name": "stdout",
          "text": [
            "['Dib', 'Suz']\n"
          ]
        }
      ]
    },
    {
      "cell_type": "code",
      "source": [
        "best_students.extend(other_students)"
      ],
      "metadata": {
        "id": "MiXax5bCc5Nm"
      },
      "execution_count": 28,
      "outputs": []
    },
    {
      "cell_type": "code",
      "source": [
        "best_students.pop(1)\n",
        "                   "
      ],
      "metadata": {
        "colab": {
          "base_uri": "https://localhost:8080/",
          "height": 36
        },
        "id": "Ez9Y8E_Ncs3P",
        "outputId": "06320e9f-ae16-4513-da4e-d74105a230d8"
      },
      "execution_count": 29,
      "outputs": [
        {
          "output_type": "execute_result",
          "data": {
            "text/plain": [
              "'Kumar'"
            ],
            "application/vnd.google.colaboratory.intrinsic+json": {
              "type": "string"
            }
          },
          "metadata": {},
          "execution_count": 29
        }
      ]
    },
    {
      "cell_type": "code",
      "source": [
        "best_students.remove(\"Dib\")"
      ],
      "metadata": {
        "id": "p6NcA6mzdNd4"
      },
      "execution_count": 30,
      "outputs": []
    },
    {
      "cell_type": "code",
      "source": [
        "print(best_students)"
      ],
      "metadata": {
        "colab": {
          "base_uri": "https://localhost:8080/"
        },
        "id": "hPupFKvVdxp6",
        "outputId": "60f4650c-e579-4666-ffd5-35a35ae70dc1"
      },
      "execution_count": 31,
      "outputs": [
        {
          "output_type": "stream",
          "name": "stdout",
          "text": [
            "['Reza', 'Mehran', 'John', 'Suz']\n"
          ]
        }
      ]
    },
    {
      "cell_type": "code",
      "source": [
        "testList = [\"abc\", \"bbb\", \"AAA\", \"aaa\"]  \n",
        "testList.sort()\n",
        "print(testList)"
      ],
      "metadata": {
        "colab": {
          "base_uri": "https://localhost:8080/"
        },
        "id": "K91-omkGec5X",
        "outputId": "246fe88d-2d88-4f2c-c974-5df0d0c7932c"
      },
      "execution_count": 32,
      "outputs": [
        {
          "output_type": "stream",
          "name": "stdout",
          "text": [
            "['AAA', 'aaa', 'abc', 'bbb']\n"
          ]
        }
      ]
    },
    {
      "cell_type": "code",
      "source": [
        "testList.reverse()\n",
        "print(testList.reverse())"
      ],
      "metadata": {
        "colab": {
          "base_uri": "https://localhost:8080/"
        },
        "id": "H01QXirZlMRJ",
        "outputId": "3b016f7d-af3c-4e3c-867d-6d62d43c8b58"
      },
      "execution_count": 39,
      "outputs": [
        {
          "output_type": "stream",
          "name": "stdout",
          "text": [
            "None\n"
          ]
        }
      ]
    },
    {
      "cell_type": "code",
      "source": [
        "s1 = {1,3,5,7,9}"
      ],
      "metadata": {
        "id": "wlzwQ8VmlUp8"
      },
      "execution_count": 37,
      "outputs": []
    },
    {
      "cell_type": "code",
      "source": [
        "print(2 not in s1)"
      ],
      "metadata": {
        "colab": {
          "base_uri": "https://localhost:8080/"
        },
        "id": "DqMPhlcIlbyH",
        "outputId": "58041a2b-6238-481c-c191-c118a6fe35eb"
      },
      "execution_count": 40,
      "outputs": [
        {
          "output_type": "stream",
          "name": "stdout",
          "text": [
            "True\n"
          ]
        }
      ]
    },
    {
      "cell_type": "code",
      "source": [
        "s1.update([s,4,6])"
      ],
      "metadata": {
        "id": "Qq4-jt1ZlmUA"
      },
      "execution_count": 41,
      "outputs": []
    },
    {
      "cell_type": "code",
      "source": [
        "print(s1)"
      ],
      "metadata": {
        "colab": {
          "base_uri": "https://localhost:8080/"
        },
        "id": "u2Lq9aKflqli",
        "outputId": "25ed4986-6a02-4592-b03f-c2fe6038a078"
      },
      "execution_count": 42,
      "outputs": [
        {
          "output_type": "stream",
          "name": "stdout",
          "text": [
            "{1, 3, 4, 5, 6, 7, 9, 'today it weather is raining!'}\n"
          ]
        }
      ]
    },
    {
      "cell_type": "code",
      "source": [
        "s1.remove(4)\n",
        "print(s1)"
      ],
      "metadata": {
        "colab": {
          "base_uri": "https://localhost:8080/"
        },
        "id": "8p5Im4v-ltwc",
        "outputId": "f0863d36-b602-4074-cb4f-fd2d527b7255"
      },
      "execution_count": 43,
      "outputs": [
        {
          "output_type": "stream",
          "name": "stdout",
          "text": [
            "{1, 3, 5, 6, 7, 9, 'today it weather is raining!'}\n"
          ]
        }
      ]
    },
    {
      "cell_type": "code",
      "source": [
        "s1 = {1,3,5,7,9}\n",
        "s2 = {5,6,7,8,9}"
      ],
      "metadata": {
        "id": "3AUMPSEzmFU1"
      },
      "execution_count": 3,
      "outputs": []
    },
    {
      "cell_type": "code",
      "source": [
        "print(s1.union(s2))\n",
        "print(s2.union(s1))\n",
        "print(s1 | s2)"
      ],
      "metadata": {
        "colab": {
          "base_uri": "https://localhost:8080/"
        },
        "id": "u-qTaIEhmas1",
        "outputId": "2ecf833f-7d63-4a2f-989f-494d4a1afeb8"
      },
      "execution_count": 4,
      "outputs": [
        {
          "output_type": "stream",
          "name": "stdout",
          "text": [
            "{1, 3, 5, 6, 7, 8, 9}\n",
            "{1, 3, 5, 6, 7, 8, 9}\n",
            "{1, 3, 5, 6, 7, 8, 9}\n"
          ]
        }
      ]
    },
    {
      "cell_type": "code",
      "source": [
        "print(s1.intersection(s2))\n",
        "print(s2.intersection(s1))\n",
        "print(s1 & s2)\n",
        "print(s2 & s1)"
      ],
      "metadata": {
        "colab": {
          "base_uri": "https://localhost:8080/"
        },
        "id": "1ERvZej6mzV3",
        "outputId": "3ca52050-35dd-4ef5-cfce-ea5dbaa9e256"
      },
      "execution_count": 5,
      "outputs": [
        {
          "output_type": "stream",
          "name": "stdout",
          "text": [
            "{9, 5, 7}\n",
            "{9, 5, 7}\n",
            "{9, 5, 7}\n",
            "{9, 5, 7}\n"
          ]
        }
      ]
    },
    {
      "cell_type": "code",
      "source": [
        "print(s1.difference(s2))\n",
        "print(s2.difference(s1))\n",
        "print(s1 - s2)\n",
        "print(s2 - s1)"
      ],
      "metadata": {
        "colab": {
          "base_uri": "https://localhost:8080/"
        },
        "id": "9Arl2SO1nCVA",
        "outputId": "b0aa0a53-8736-4d34-c40a-552b5f774672"
      },
      "execution_count": 6,
      "outputs": [
        {
          "output_type": "stream",
          "name": "stdout",
          "text": [
            "{1, 3}\n",
            "{8, 6}\n",
            "{1, 3}\n",
            "{8, 6}\n"
          ]
        }
      ]
    },
    {
      "cell_type": "code",
      "source": [
        "print(s1.symmetric_difference(s2))\n",
        "print(s2.symmetric_difference(s1))\n",
        "print(s1 ^ s2)\n",
        "print(s2 ^ s1)\n",
        "print((s1 - s2) | (s2- s1))## union of diffs\n",
        "print((s1 - s2) & (s2-s2))"
      ],
      "metadata": {
        "colab": {
          "base_uri": "https://localhost:8080/"
        },
        "id": "11PzmVFrnS1i",
        "outputId": "7c46012d-771e-4908-a859-2ff4fb544c07"
      },
      "execution_count": 7,
      "outputs": [
        {
          "output_type": "stream",
          "name": "stdout",
          "text": [
            "{1, 3, 6, 8}\n",
            "{1, 3, 6, 8}\n",
            "{1, 3, 6, 8}\n",
            "{1, 3, 6, 8}\n",
            "{8, 1, 3, 6}\n",
            "set()\n"
          ]
        }
      ]
    },
    {
      "cell_type": "code",
      "source": [
        "capitals = {\"Germany\" :\"Berlin\", \"India\": \"New Delhi\", \"Italy\" :\"Rome\"}\n",
        "print(capitals[\"Germany\"])\n",
        "capitals[\"India\"] = \"New Dehli\"\n",
        "print(capitals[\"India\"])"
      ],
      "metadata": {
        "colab": {
          "base_uri": "https://localhost:8080/"
        },
        "id": "HwIJ9JFnpCZ2",
        "outputId": "249417ea-c74b-4d78-da42-3a3e4411c25a"
      },
      "execution_count": 19,
      "outputs": [
        {
          "output_type": "stream",
          "name": "stdout",
          "text": [
            "Berlin\n",
            "New Dehli\n"
          ]
        }
      ]
    },
    {
      "cell_type": "code",
      "source": [
        "print(capitals.pop(\"Italy\"))\n",
        "print(capitals)"
      ],
      "metadata": {
        "colab": {
          "base_uri": "https://localhost:8080/"
        },
        "id": "LWxDjs6epv_H",
        "outputId": "5195f3ae-7d17-42bf-bc09-24026e1caf01"
      },
      "execution_count": 20,
      "outputs": [
        {
          "output_type": "stream",
          "name": "stdout",
          "text": [
            "Rome\n",
            "{'Germany': 'Berlin', 'India': 'New Dehli'}\n"
          ]
        }
      ]
    },
    {
      "cell_type": "code",
      "source": [
        "print(capitals.keys())\n",
        "print(capitals.values())\n",
        "print(capitals.items())\n"
      ],
      "metadata": {
        "colab": {
          "base_uri": "https://localhost:8080/"
        },
        "id": "Jq2ia8pBp76Q",
        "outputId": "56167a9b-57a1-41f1-c2b0-8bcd1bac47b0"
      },
      "execution_count": 23,
      "outputs": [
        {
          "output_type": "stream",
          "name": "stdout",
          "text": [
            "dict_keys(['Germany', 'India'])\n",
            "dict_values(['Berlin', 'New Dehli'])\n",
            "dict_items([('Germany', 'Berlin'), ('India', 'New Dehli')])\n"
          ]
        }
      ]
    },
    {
      "cell_type": "code",
      "source": [
        "list_captials = [('Germnay', 'Berlin'), ('India','New Delhi'), ('Italy', 'Rome')]"
      ],
      "metadata": {
        "id": "bvv323_TrQAy"
      },
      "execution_count": 24,
      "outputs": []
    }
  ]
}