{
  "nbformat": 4,
  "nbformat_minor": 0,
  "metadata": {
    "colab": {
      "provenance": [],
      "authorship_tag": "ABX9TyOSPzbdSCW2P4Ei4blfk7TV",
      "include_colab_link": true
    },
    "kernelspec": {
      "name": "python3",
      "display_name": "Python 3"
    },
    "language_info": {
      "name": "python"
    }
  },
  "cells": [
    {
      "cell_type": "markdown",
      "metadata": {
        "id": "view-in-github",
        "colab_type": "text"
      },
      "source": [
        "<a href=\"https://colab.research.google.com/github/AhmadNass7/Gisma/blob/main/Untitled19.ipynb\" target=\"_parent\"><img src=\"https://colab.research.google.com/assets/colab-badge.svg\" alt=\"Open In Colab\"/></a>"
      ]
    },
    {
      "cell_type": "code",
      "execution_count": null,
      "metadata": {
        "id": "IuVA6sga1zkg"
      },
      "outputs": [],
      "source": []
    },
    {
      "cell_type": "markdown",
      "source": [
        "## Write a Python program to calculate the number of seconds in 10 years. Assume that we have 2 leap years in this period. Assign the result into a variable named seconds_in_10_years."
      ],
      "metadata": {
        "id": "yWQ8u4of11h6"
      }
    },
    {
      "cell_type": "code",
      "source": [
        "days_in_10_years= 365*10+2\n",
        "seconds_in_days=24*60*60\n",
        "seconds_in_10_years= days_in_10_years * seconds_in_days\n",
        "print(seconds_in_10_years)\n"
      ],
      "metadata": {
        "colab": {
          "base_uri": "https://localhost:8080/"
        },
        "id": "wFgZXVtZ12Vr",
        "outputId": "4a05238d-32f5-419f-e787-b1887b9c57b6"
      },
      "execution_count": 5,
      "outputs": [
        {
          "output_type": "stream",
          "name": "stdout",
          "text": [
            "315532800\n"
          ]
        }
      ]
    },
    {
      "cell_type": "markdown",
      "source": [
        "## Write a Python program that computes the area of a circle based on a given radius. The area of circle can be computed by the following formula: \n",
        "."
      ],
      "metadata": {
        "id": "zT2St3ve12zZ"
      }
    },
    {
      "cell_type": "code",
      "source": [
        "r= 4\n",
        "pi= 3.1415\n",
        "a = pi*r**2\n",
        "print(f\"circle with radius {r} and area{a}\")"
      ],
      "metadata": {
        "colab": {
          "base_uri": "https://localhost:8080/"
        },
        "id": "_X2EgNoi13I2",
        "outputId": "f40cf0a1-8788-4f5a-afe2-dd8e7ccc71d0"
      },
      "execution_count": 6,
      "outputs": [
        {
          "output_type": "stream",
          "name": "stdout",
          "text": [
            "circle with radius 4 and area50.264\n"
          ]
        }
      ]
    },
    {
      "cell_type": "markdown",
      "source": [
        "## Write a Python program that computes the maximum of two inputs:\n",
        "\n",
        "The first input should be the absolute of -4.\n",
        "The second input should be the length of the string \"abc\"."
      ],
      "metadata": {
        "id": "zPtFShub13Xh"
      }
    },
    {
      "cell_type": "code",
      "source": [
        "a= abs(-4)\n",
        "b= len(\"abc\")\n",
        "print(max(a,b))"
      ],
      "metadata": {
        "colab": {
          "base_uri": "https://localhost:8080/"
        },
        "id": "aPzEIkLD13n6",
        "outputId": "86c7f7e3-c4df-4558-d908-e0710b218ffc"
      },
      "execution_count": 21,
      "outputs": [
        {
          "output_type": "stream",
          "name": "stdout",
          "text": [
            "4\n"
          ]
        }
      ]
    },
    {
      "cell_type": "markdown",
      "source": [
        "# Write a Python program to compute the Euclidean distance between two given points \n",
        " and \n",
        ", which is \n",
        "."
      ],
      "metadata": {
        "id": "wp42BtWV132e"
      }
    },
    {
      "cell_type": "code",
      "source": [
        "import math\n",
        "\n",
        "x1= 2\n",
        "x2= 4\n",
        "\n",
        "y1= 6\n",
        "y2= 3\n",
        "z= math.sqrt((x1-x2)**2 + (y1-y2)**2)\n",
        "print(z)"
      ],
      "metadata": {
        "colab": {
          "base_uri": "https://localhost:8080/"
        },
        "id": "IFiPcq9A14ES",
        "outputId": "ffa7a54f-c319-406d-bc19-23f0180409e8"
      },
      "execution_count": 24,
      "outputs": [
        {
          "output_type": "stream",
          "name": "stdout",
          "text": [
            "3.605551275463989\n"
          ]
        }
      ]
    },
    {
      "cell_type": "markdown",
      "source": [
        "## Write a Python program to convert fahrenheit to celsius based on the the following formula: \n",
        " \n"
      ],
      "metadata": {
        "id": "xSFEbP4d14Sf"
      }
    },
    {
      "cell_type": "code",
      "source": [
        "F =80\n",
        "C= ((F -32)*5/9)\n",
        "print(C)"
      ],
      "metadata": {
        "colab": {
          "base_uri": "https://localhost:8080/"
        },
        "id": "WZEXNK2i14fg",
        "outputId": "74987d10-550b-4158-f043-e3c42716071e"
      },
      "execution_count": 26,
      "outputs": [
        {
          "output_type": "stream",
          "name": "stdout",
          "text": [
            "26.666666666666668\n"
          ]
        }
      ]
    },
    {
      "cell_type": "markdown",
      "source": [
        "# Write a Python program which accepts the user's first and last name and prints them in reverse order with a space between them. For example, if the user enters John Doe, the program should print Doe John. Note that you can use the input() function to take user's inputs."
      ],
      "metadata": {
        "id": "4MVwnE1E27k7"
      }
    },
    {
      "cell_type": "code",
      "source": [
        "user_name= \"Ahmad\"\n",
        "last_name= \"Nasser\"\n",
        "print(last_name, user_name)"
      ],
      "metadata": {
        "colab": {
          "base_uri": "https://localhost:8080/"
        },
        "id": "dGXBueLX27t6",
        "outputId": "9cb82a73-e2ee-4c01-cda0-56d7ae7af6a5"
      },
      "execution_count": 27,
      "outputs": [
        {
          "output_type": "stream",
          "name": "stdout",
          "text": [
            "Nasser Ahmad\n"
          ]
        }
      ]
    },
    {
      "cell_type": "markdown",
      "source": [
        "#Write a Python program that opens a text file named my_file.txt and writes Hello world! in that file."
      ],
      "metadata": {
        "id": "stWM8svf274H"
      }
    },
    {
      "cell_type": "code",
      "source": [
        "with open(\"my_file.txt\", \"w\") as file:\n",
        "  file.write(\"Hello Wrold \")\n",
        "  "
      ],
      "metadata": {
        "colab": {
          "base_uri": "https://localhost:8080/"
        },
        "id": "woyD3hb628Dd",
        "outputId": "2adde1b9-ed3b-41e2-c854-9b7f9a3c87e0"
      },
      "execution_count": 29,
      "outputs": [
        {
          "output_type": "stream",
          "name": "stdout",
          "text": [
            "<built-in method write of _io.TextIOWrapper object at 0x7fe9427ff930>\n"
          ]
        }
      ]
    }
  ]
}