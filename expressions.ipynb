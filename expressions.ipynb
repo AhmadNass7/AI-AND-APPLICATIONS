{
  "cells": [
    {
      "cell_type": "markdown",
      "metadata": {
        "id": "view-in-github",
        "colab_type": "text"
      },
      "source": [
        "<a href=\"https://colab.research.google.com/github/AhmadNass7/Gisma/blob/main/expressions.ipynb\" target=\"_parent\"><img src=\"https://colab.research.google.com/assets/colab-badge.svg\" alt=\"Open In Colab\"/></a>"
      ]
    },
    {
      "cell_type": "markdown",
      "id": "loved-gallery",
      "metadata": {
        "id": "loved-gallery"
      },
      "source": [
        "# Expressions"
      ]
    },
    {
      "cell_type": "markdown",
      "id": "false-documentary",
      "metadata": {
        "id": "false-documentary"
      },
      "source": [
        "## Count Seconds in a Decade\n",
        "Write a Python program to calculate the number of seconds in 10 years. Assume that we have 2 leap years in this period. Assign the result into a variable named `seconds_in_10_years`."
      ]
    },
    {
      "cell_type": "code",
      "execution_count": 6,
      "id": "prescribed-faculty",
      "metadata": {
        "colab": {
          "base_uri": "https://localhost:8080/"
        },
        "id": "prescribed-faculty",
        "outputId": "5a6615e7-54e8-4eb0-ac0b-cce5c07cf005"
      },
      "outputs": [
        {
          "output_type": "stream",
          "name": "stdout",
          "text": [
            "seconds_in_10_years=315532800\n"
          ]
        }
      ],
      "source": [
        "days_in_10_years=365*10+2\n",
        "seconds_in_day=24*60*60\n",
        "seconds_in_10_years = days_in_10_years * seconds_in_day\n",
        "print(f\"seconds_in_10_years={seconds_in_10_years}\")"
      ]
    },
    {
      "cell_type": "markdown",
      "id": "sealed-mouth",
      "metadata": {
        "id": "sealed-mouth"
      },
      "source": [
        "## Compute the Area of a Circle\n",
        "Write a Python program that computes the area of a circle based on a given radius. The area of circle can be computed by the following formula: $ a = \\pi r^2 $."
      ]
    },
    {
      "cell_type": "code",
      "execution_count": 7,
      "id": "amber-macedonia",
      "metadata": {
        "colab": {
          "base_uri": "https://localhost:8080/"
        },
        "id": "amber-macedonia",
        "outputId": "54066423-2589-49a9-9982-d681cee6316e"
      },
      "outputs": [
        {
          "output_type": "stream",
          "name": "stdout",
          "text": [
            "circle with radi 4 has area50.264\n"
          ]
        }
      ],
      "source": [
        "r=4\n",
        "pi=3.1415\n",
        "a=pi*r**2\n",
        "print(f\"circle with radi {r} has area{a}\")\n"
      ]
    },
    {
      "cell_type": "markdown",
      "id": "attached-cleaning",
      "metadata": {
        "id": "attached-cleaning"
      },
      "source": [
        "## Compute Maximum of Numbers\n",
        "Write a Python program that computes the maximum of two inputs: \n",
        "- The first input should be the absolute of -4. \n",
        "- The second input should be the length of the string `\"abc\"`."
      ]
    },
    {
      "cell_type": "code",
      "execution_count": 8,
      "id": "aware-resort",
      "metadata": {
        "colab": {
          "base_uri": "https://localhost:8080/"
        },
        "id": "aware-resort",
        "outputId": "70f0ada1-804f-4370-f703-af015da83fc9"
      },
      "outputs": [
        {
          "output_type": "stream",
          "name": "stdout",
          "text": [
            "4\n"
          ]
        }
      ],
      "source": [
        "a=abs(-4)\n",
        "b=len(\"abc\")\n",
        "print(max(a,b))"
      ]
    },
    {
      "cell_type": "markdown",
      "id": "cooperative-request",
      "metadata": {
        "id": "cooperative-request"
      },
      "source": [
        "## Compute Euclidean Distance\n",
        "Write a Python program to compute the Euclidean distance between two given points $ (x_1, y_1) $ and $ (x_2, y_2) $, which is $ \\sqrt{(x_1 - x_2)^2 + (y_1 - y_2)^2} $."
      ]
    },
    {
      "cell_type": "code",
      "execution_count": 11,
      "id": "killing-shore",
      "metadata": {
        "colab": {
          "base_uri": "https://localhost:8080/"
        },
        "id": "killing-shore",
        "outputId": "f9e3fbfe-a2e1-4a3e-cb35-0d0dc5a63964"
      },
      "outputs": [
        {
          "output_type": "stream",
          "name": "stdout",
          "text": [
            "3.605551275463989\n"
          ]
        }
      ],
      "source": [
        " import math\n",
        " x1=2\n",
        " x2=4\n",
        " y1=3\n",
        " y2=6\n",
        "\n",
        " z= math.sqrt((x1-x2)**2 + (y1-y2)**2)\n",
        " print(z)"
      ]
    },
    {
      "cell_type": "markdown",
      "id": "color-texas",
      "metadata": {
        "id": "color-texas"
      },
      "source": [
        "## Convert Fahrenheit to Celsius \n",
        "Write a Python program to convert fahrenheit to celsius based on the the following formula: $ C = (F - 32) \\times \\frac{5}{9}. $"
      ]
    },
    {
      "cell_type": "code",
      "execution_count": 12,
      "id": "broad-ordinary",
      "metadata": {
        "colab": {
          "base_uri": "https://localhost:8080/"
        },
        "id": "broad-ordinary",
        "outputId": "ff539b66-5fe8-42cc-c7f7-13a66435aa08"
      },
      "outputs": [
        {
          "output_type": "stream",
          "name": "stdout",
          "text": [
            "37.77777777777778\n"
          ]
        }
      ],
      "source": [
        "F=100\n",
        "C=((F-32)*5/9)\n",
        "print (C)"
      ]
    },
    {
      "cell_type": "markdown",
      "id": "imported-yeast",
      "metadata": {
        "id": "imported-yeast"
      },
      "source": [
        "## Print User's Name\n",
        "Write a Python program which accepts the user's first and last name and prints them in reverse order with a space between them. For example, if the user enters `John Doe`, the program should print `Doe John`. Note that you can use the `input()` function to take user's inputs."
      ]
    },
    {
      "cell_type": "code",
      "execution_count": 13,
      "id": "inner-arabic",
      "metadata": {
        "colab": {
          "base_uri": "https://localhost:8080/"
        },
        "id": "inner-arabic",
        "outputId": "54a5670b-ebf9-485c-ad9f-5205772cb0f6"
      },
      "outputs": [
        {
          "output_type": "stream",
          "name": "stdout",
          "text": [
            "NASSER AHMAD\n"
          ]
        }
      ],
      "source": [
        "first_name =\"AHMAD\"\n",
        "last_name = \"NASSER\"\n",
        "print(last_name,first_name)"
      ]
    },
    {
      "cell_type": "markdown",
      "id": "3d187e0e",
      "metadata": {
        "id": "3d187e0e"
      },
      "source": [
        "## Read a Text File\n",
        "Write a Python program that opens a text file named `my_file.txt` and writes `Hello world!` in that file."
      ]
    },
    {
      "cell_type": "code",
      "execution_count": 14,
      "id": "468bc699",
      "metadata": {
        "id": "468bc699"
      },
      "outputs": [],
      "source": [
        "with open(\"my_file.txt\", \"w\") as file:\n",
        "  file.write(\"Hello Wrold \")"
      ]
    },
    {
      "cell_type": "markdown",
      "source": [
        "Convert to html"
      ],
      "metadata": {
        "id": "LX7gIY58GK4Z"
      },
      "id": "LX7gIY58GK4Z"
    },
    {
      "cell_type": "code",
      "source": [
        "!jupyter nbconvert --to html expressions.ipynb"
      ],
      "metadata": {
        "colab": {
          "base_uri": "https://localhost:8080/"
        },
        "id": "wDYcs2OiGQL_",
        "outputId": "e693a4fb-f7c1-44ff-83ee-50e781b61f86"
      },
      "id": "wDYcs2OiGQL_",
      "execution_count": 16,
      "outputs": [
        {
          "output_type": "stream",
          "name": "stdout",
          "text": [
            "[NbConvertApp] Converting notebook expressions.ipynb to html\n",
            "[NbConvertApp] Writing 283024 bytes to expressions.html\n"
          ]
        }
      ]
    }
  ],
  "metadata": {
    "kernelspec": {
      "display_name": "Python 3",
      "language": "python",
      "name": "python3"
    },
    "language_info": {
      "codemirror_mode": {
        "name": "ipython",
        "version": 3
      },
      "file_extension": ".py",
      "mimetype": "text/x-python",
      "name": "python",
      "nbconvert_exporter": "python",
      "pygments_lexer": "ipython3",
      "version": "3.8.5"
    },
    "colab": {
      "provenance": [],
      "include_colab_link": true
    }
  },
  "nbformat": 4,
  "nbformat_minor": 5
}