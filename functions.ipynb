{
  "nbformat": 4,
  "nbformat_minor": 0,
  "metadata": {
    "colab": {
      "provenance": [],
      "authorship_tag": "ABX9TyM2a4dHDyk76xUS4q43tRVh",
      "include_colab_link": true
    },
    "kernelspec": {
      "name": "python3",
      "display_name": "Python 3"
    },
    "language_info": {
      "name": "python"
    }
  },
  "cells": [
    {
      "cell_type": "markdown",
      "metadata": {
        "id": "view-in-github",
        "colab_type": "text"
      },
      "source": [
        "<a href=\"https://colab.research.google.com/github/AhmadNass7/Gisma/blob/main/functions.ipynb\" target=\"_parent\"><img src=\"https://colab.research.google.com/assets/colab-badge.svg\" alt=\"Open In Colab\"/></a>"
      ]
    },
    {
      "cell_type": "code",
      "execution_count": 1,
      "metadata": {
        "colab": {
          "base_uri": "https://localhost:8080/"
        },
        "id": "9Tk3R7OKQVRN",
        "outputId": "519ac09a-c45f-4e0e-ef29-b32066c90f96"
      },
      "outputs": [
        {
          "output_type": "execute_result",
          "data": {
            "text/plain": [
              "9"
            ]
          },
          "metadata": {},
          "execution_count": 1
        }
      ],
      "source": [
        "3*3"
      ]
    },
    {
      "cell_type": "code",
      "source": [
        "1245*1245"
      ],
      "metadata": {
        "colab": {
          "base_uri": "https://localhost:8080/"
        },
        "id": "b6EkHh8ZQfn2",
        "outputId": "9e0b7dec-e06f-42e4-df83-2afbf4ed9797"
      },
      "execution_count": 2,
      "outputs": [
        {
          "output_type": "execute_result",
          "data": {
            "text/plain": [
              "1550025"
            ]
          },
          "metadata": {},
          "execution_count": 2
        }
      ]
    },
    {
      "cell_type": "code",
      "source": [
        "def my_square(x):\n",
        "\n",
        " # This is a sample docstring for a function\n",
        "\n",
        "  return x*x\n",
        "            "
      ],
      "metadata": {
        "id": "Ojc41pRBQfol"
      },
      "execution_count": 5,
      "outputs": []
    },
    {
      "cell_type": "code",
      "source": [
        "my_square(4.1)"
      ],
      "metadata": {
        "colab": {
          "base_uri": "https://localhost:8080/"
        },
        "id": "xLQNSimIQftJ",
        "outputId": "8d074381-baf1-4205-c381-e1a9aae961cf"
      },
      "execution_count": 6,
      "outputs": [
        {
          "output_type": "execute_result",
          "data": {
            "text/plain": [
              "16.81"
            ]
          },
          "metadata": {},
          "execution_count": 6
        }
      ]
    },
    {
      "cell_type": "code",
      "source": [
        "import math \n",
        "\n",
        "pi = 3.1415\n",
        "math.cos(pi)\n",
        "\n",
        "print(math.pi)"
      ],
      "metadata": {
        "colab": {
          "base_uri": "https://localhost:8080/"
        },
        "id": "-j07PMOYQft1",
        "outputId": "65503bf8-73bb-4b6f-9758-d01c0ab5baab"
      },
      "execution_count": 9,
      "outputs": [
        {
          "output_type": "stream",
          "name": "stdout",
          "text": [
            "3.141592653589793\n"
          ]
        }
      ]
    },
    {
      "cell_type": "code",
      "source": [
        "import math"
      ],
      "metadata": {
        "id": "8VM2JwR-VRyO"
      },
      "execution_count": 8,
      "outputs": []
    },
    {
      "cell_type": "markdown",
      "source": [],
      "metadata": {
        "id": "2KKhu2BaVxQB"
      }
    },
    {
      "cell_type": "code",
      "source": [
        "from math import pi, sin"
      ],
      "metadata": {
        "id": "IEtMmxBcQfyG"
      },
      "execution_count": 10,
      "outputs": []
    },
    {
      "cell_type": "code",
      "source": [
        "print(pi)"
      ],
      "metadata": {
        "colab": {
          "base_uri": "https://localhost:8080/"
        },
        "id": "mLlU-g88Qfyv",
        "outputId": "0df0fe81-a025-4aa9-df82-d6041941a9b8"
      },
      "execution_count": 11,
      "outputs": [
        {
          "output_type": "stream",
          "name": "stdout",
          "text": [
            "3.141592653589793\n"
          ]
        }
      ]
    },
    {
      "cell_type": "code",
      "source": [
        "from math import pi, sin\n",
        "\n",
        "print(sin(pi))\n"
      ],
      "metadata": {
        "colab": {
          "base_uri": "https://localhost:8080/"
        },
        "id": "-Q9mm5p6Qf3g",
        "outputId": "edc3a573-2b5f-4ea4-f533-3e23110862c3"
      },
      "execution_count": 17,
      "outputs": [
        {
          "output_type": "stream",
          "name": "stdout",
          "text": [
            "1.2246467991473532e-16\n"
          ]
        }
      ]
    },
    {
      "cell_type": "code",
      "source": [
        "print(math.cos(pi))"
      ],
      "metadata": {
        "colab": {
          "base_uri": "https://localhost:8080/"
        },
        "id": "-dibfiTWQf4J",
        "outputId": "61fa2892-f5b2-4fcf-f0c3-04593e3c8e9b"
      },
      "execution_count": 18,
      "outputs": [
        {
          "output_type": "stream",
          "name": "stdout",
          "text": [
            "-1.0\n"
          ]
        }
      ]
    },
    {
      "cell_type": "code",
      "source": [
        "# or\n",
        "from math import cos\n",
        "print(math.cos(pi))"
      ],
      "metadata": {
        "colab": {
          "base_uri": "https://localhost:8080/"
        },
        "id": "wheI2CsHQf8-",
        "outputId": "132bdafd-21b4-41e0-8888-651dcb8c52dd"
      },
      "execution_count": 23,
      "outputs": [
        {
          "output_type": "stream",
          "name": "stdout",
          "text": [
            "-1.0\n"
          ]
        }
      ]
    },
    {
      "cell_type": "code",
      "source": [
        "def my_square(x):\n",
        "  \"\"\"This function squares a number\"\"\"\n",
        "\n",
        "  x2 = x*x\n",
        "  return x2"
      ],
      "metadata": {
        "id": "3jZqrKWUQf9n"
      },
      "execution_count": 24,
      "outputs": []
    },
    {
      "cell_type": "code",
      "source": [
        "x = 7\n",
        "x_square = my_square(x)\n",
        "print(f\"square of {x} is {x_square}\")"
      ],
      "metadata": {
        "colab": {
          "base_uri": "https://localhost:8080/"
        },
        "id": "QZYILHTeX79N",
        "outputId": "8032d093-5d86-415a-c1a7-1c283416ea05"
      },
      "execution_count": 25,
      "outputs": [
        {
          "output_type": "stream",
          "name": "stdout",
          "text": [
            "square of 7 is 49\n"
          ]
        }
      ]
    },
    {
      "cell_type": "code",
      "source": [
        "from math import factorial "
      ],
      "metadata": {
        "id": "uEvjN7eAQgCE"
      },
      "execution_count": 27,
      "outputs": []
    },
    {
      "cell_type": "code",
      "source": [
        "factorial(5)"
      ],
      "metadata": {
        "colab": {
          "base_uri": "https://localhost:8080/"
        },
        "id": "rb9vLEM9QgCr",
        "outputId": "eb529da5-e9f2-4782-96f5-9e2f2ebf7694"
      },
      "execution_count": 28,
      "outputs": [
        {
          "output_type": "execute_result",
          "data": {
            "text/plain": [
              "120"
            ]
          },
          "metadata": {},
          "execution_count": 28
        }
      ]
    },
    {
      "cell_type": "code",
      "source": [
        "def my_factorial(n):\n",
        "  \"\"\"Returns factorial of a number\"\"\"\n",
        "\n",
        "  f = 1 \n",
        "  for i in range(1, n+1):\n",
        "    f = f*i\n",
        "  return f\n",
        "  print(f\"f({n})= {f}\") \n",
        "  "
      ],
      "metadata": {
        "id": "-iPHOndkQgHs"
      },
      "execution_count": 42,
      "outputs": []
    },
    {
      "cell_type": "code",
      "source": [
        "my_factorial(5)"
      ],
      "metadata": {
        "colab": {
          "base_uri": "https://localhost:8080/"
        },
        "id": "KdtcbemHQgIW",
        "outputId": "90ecd27f-1fb7-4be0-b65b-d8be3f09d0e0"
      },
      "execution_count": 45,
      "outputs": [
        {
          "output_type": "execute_result",
          "data": {
            "text/plain": [
              "120"
            ]
          },
          "metadata": {},
          "execution_count": 45
        }
      ]
    },
    {
      "cell_type": "code",
      "source": [
        "print (my_factorial.__doc__)"
      ],
      "metadata": {
        "colab": {
          "base_uri": "https://localhost:8080/"
        },
        "id": "K3nLw8ykQgNH",
        "outputId": "e70a5ff8-6106-4e27-c8b5-13dcc7c53370"
      },
      "execution_count": 46,
      "outputs": [
        {
          "output_type": "stream",
          "name": "stdout",
          "text": [
            "Returns factorial of a number\n"
          ]
        }
      ]
    },
    {
      "cell_type": "code",
      "source": [
        "print(math.cos.__doc__)"
      ],
      "metadata": {
        "colab": {
          "base_uri": "https://localhost:8080/"
        },
        "id": "fYn1FgfwQgNv",
        "outputId": "3d482597-7bd7-403d-84e5-c231980d983e"
      },
      "execution_count": 47,
      "outputs": [
        {
          "output_type": "stream",
          "name": "stdout",
          "text": [
            "Return the cosine of x (measured in radians).\n"
          ]
        }
      ]
    },
    {
      "cell_type": "code",
      "source": [
        "def triple_add(x, y, z):\n",
        "  \"\"\" adds 3 inputs\"\"\"\n",
        "  sum = x+y+z\n",
        "\n",
        "  return sum"
      ],
      "metadata": {
        "id": "Ck9OsxO2QgSO"
      },
      "execution_count": 48,
      "outputs": []
    },
    {
      "cell_type": "code",
      "source": [
        "triple_add(1000, 200, 3)"
      ],
      "metadata": {
        "colab": {
          "base_uri": "https://localhost:8080/"
        },
        "id": "VKy_YDNNQgS5",
        "outputId": "aa67c040-cb1c-4743-aa8d-0b04fa37ef3a"
      },
      "execution_count": 49,
      "outputs": [
        {
          "output_type": "execute_result",
          "data": {
            "text/plain": [
              "1203"
            ]
          },
          "metadata": {},
          "execution_count": 49
        }
      ]
    },
    {
      "cell_type": "code",
      "source": [
        "def name_gen(first_name, last_name, middle_name, title):\n",
        "  \"\"\" Generates name\"\"\"\n",
        "  name = f\"{title} {first_name} {last_name}\"\n",
        "  print(name)\n",
        "\n",
        "  return name"
      ],
      "metadata": {
        "id": "uIu7_Bu4QgXq"
      },
      "execution_count": 66,
      "outputs": []
    },
    {
      "cell_type": "code",
      "source": [
        "name_gen(\"Alex\", \"Adam\", \"Jan\", \"Mr\")\n",
        "name_gen(\"Alex\", \"Adam\", \"Lord\",\"Mr\")"
      ],
      "metadata": {
        "colab": {
          "base_uri": "https://localhost:8080/",
          "height": 70
        },
        "id": "2MWIdRHoQgYW",
        "outputId": "c2fdc12b-6e84-4ecd-feca-8cac1c29b07c"
      },
      "execution_count": 67,
      "outputs": [
        {
          "output_type": "stream",
          "name": "stdout",
          "text": [
            "Mr Alex Adam\n",
            "Mr Alex Adam\n"
          ]
        },
        {
          "output_type": "execute_result",
          "data": {
            "text/plain": [
              "'Mr Alex Adam'"
            ],
            "application/vnd.google.colaboratory.intrinsic+json": {
              "type": "string"
            }
          },
          "metadata": {},
          "execution_count": 67
        }
      ]
    },
    {
      "cell_type": "code",
      "source": [
        "name_gen(title = \"Madam\", first_name=\"Lili\", middle_name= \"Mary\", last_name=\"Baker\") # i didnt place middle name in line 66"
      ],
      "metadata": {
        "colab": {
          "base_uri": "https://localhost:8080/",
          "height": 53
        },
        "id": "dh_c27i6Qgc4",
        "outputId": "e21e97e8-abf5-4cb2-b5f5-ad13da909fef"
      },
      "execution_count": 68,
      "outputs": [
        {
          "output_type": "stream",
          "name": "stdout",
          "text": [
            "Madam Lili Baker\n"
          ]
        },
        {
          "output_type": "execute_result",
          "data": {
            "text/plain": [
              "'Madam Lili Baker'"
            ],
            "application/vnd.google.colaboratory.intrinsic+json": {
              "type": "string"
            }
          },
          "metadata": {},
          "execution_count": 68
        }
      ]
    },
    {
      "cell_type": "code",
      "source": [
        "def greeter(*args):\n",
        "  for name in args:\n",
        "    print(f\"Welcome {name}!\")"
      ],
      "metadata": {
        "id": "JPcR_bRTQgdk"
      },
      "execution_count": 70,
      "outputs": []
    },
    {
      "cell_type": "code",
      "source": [
        "greeter(\"I\", \"Me\", \"Myself\", \"Ich\", 1000, pi)"
      ],
      "metadata": {
        "colab": {
          "base_uri": "https://localhost:8080/"
        },
        "id": "6jRb3PnrQgnY",
        "outputId": "18e1e8cc-c9dd-4789-9c39-9aab8faf31f6"
      },
      "execution_count": 71,
      "outputs": [
        {
          "output_type": "stream",
          "name": "stdout",
          "text": [
            "Welcome I!\n",
            "Welcome Me!\n",
            "Welcome Myself!\n",
            "Welcome Ich!\n",
            "Welcome 1000!\n",
            "Welcome 3.141592653589793!\n"
          ]
        }
      ]
    },
    {
      "cell_type": "code",
      "source": [
        "square = lambda x: x*x"
      ],
      "metadata": {
        "id": "FNJA-dl_Qgon"
      },
      "execution_count": 74,
      "outputs": []
    },
    {
      "cell_type": "code",
      "source": [
        "square(5)"
      ],
      "metadata": {
        "colab": {
          "base_uri": "https://localhost:8080/"
        },
        "id": "8rZnnxAEQgsT",
        "outputId": "8a4c7280-e993-4284-8928-468c4d7abb4a"
      },
      "execution_count": 75,
      "outputs": [
        {
          "output_type": "execute_result",
          "data": {
            "text/plain": [
              "25"
            ]
          },
          "metadata": {},
          "execution_count": 75
        }
      ]
    },
    {
      "cell_type": "code",
      "source": [
        "# 5! = 4! *5"
      ],
      "metadata": {
        "id": "9CfktUObQgto"
      },
      "execution_count": 78,
      "outputs": []
    },
    {
      "cell_type": "code",
      "source": [
        "def factorial_rec(n):\n",
        "\n",
        "  if n==1:\n",
        "     return 1\n",
        "  else:\n",
        "     return n* factorial_rec(n-1)\n",
        "     print(f\"{n} = {n-1}! x {n}\")   "
      ],
      "metadata": {
        "id": "NkNe4fgxQgwl"
      },
      "execution_count": 79,
      "outputs": []
    },
    {
      "cell_type": "code",
      "source": [
        "factorial_rec(5)"
      ],
      "metadata": {
        "colab": {
          "base_uri": "https://localhost:8080/"
        },
        "id": "-fJaQqXiQgxt",
        "outputId": "c8bdcf9e-a3d4-4392-9f7b-e68ecd29a04e"
      },
      "execution_count": 82,
      "outputs": [
        {
          "output_type": "execute_result",
          "data": {
            "text/plain": [
              "120"
            ]
          },
          "metadata": {},
          "execution_count": 82
        }
      ]
    },
    {
      "cell_type": "code",
      "source": [
        "def factorial_rec(n):\n",
        "\n",
        "  if n==1:\n",
        "     print(f\"{1}! = 1\")\n",
        "     return 1\n",
        "  else:\n",
        "     print(f\"{n}! = {n-1}! x {n}\")\n",
        "     return n* factorial_rec(n-1)\n",
        "      \n",
        "     "
      ],
      "metadata": {
        "id": "lXfdX_ecQg05"
      },
      "execution_count": 93,
      "outputs": []
    },
    {
      "cell_type": "code",
      "source": [
        "factorial_rec(1)"
      ],
      "metadata": {
        "colab": {
          "base_uri": "https://localhost:8080/"
        },
        "id": "_ArTdJbyihAG",
        "outputId": "99840700-c76a-4136-956c-92eb703afb01"
      },
      "execution_count": 94,
      "outputs": [
        {
          "output_type": "stream",
          "name": "stdout",
          "text": [
            "1! = 1\n"
          ]
        },
        {
          "output_type": "execute_result",
          "data": {
            "text/plain": [
              "1"
            ]
          },
          "metadata": {},
          "execution_count": 94
        }
      ]
    },
    {
      "cell_type": "code",
      "source": [
        "factorial_rec(5)"
      ],
      "metadata": {
        "colab": {
          "base_uri": "https://localhost:8080/"
        },
        "id": "_Ss6jN7yi_oD",
        "outputId": "5fd78700-26e4-4635-9f95-67a6265a7d3a"
      },
      "execution_count": 95,
      "outputs": [
        {
          "output_type": "stream",
          "name": "stdout",
          "text": [
            "5! = 4! x 5\n",
            "4! = 3! x 4\n",
            "3! = 2! x 3\n",
            "2! = 1! x 2\n",
            "1! = 1\n"
          ]
        },
        {
          "output_type": "execute_result",
          "data": {
            "text/plain": [
              "120"
            ]
          },
          "metadata": {},
          "execution_count": 95
        }
      ]
    },
    {
      "cell_type": "code",
      "source": [
        "a = 10\n",
        "myname = \"Max\""
      ],
      "metadata": {
        "id": "ZpQTViGsjWMK"
      },
      "execution_count": 96,
      "outputs": []
    },
    {
      "cell_type": "code",
      "source": [
        "def test():\n",
        "  ## here is a local scope\n",
        "  local_name = \"Jack\" # local variable \n",
        "  name1 = \"alex\" # it doesnt change the global variable but makes local\n",
        "  name2= \"kusha\" # defined gloval , it will change also out of scope \n",
        "  print(f\"{myname} & {local_name} are friends\")"
      ],
      "metadata": {
        "id": "handFAGnjbSt"
      },
      "execution_count": 109,
      "outputs": []
    },
    {
      "cell_type": "code",
      "source": [
        "name1= \"alex\"\n",
        "name2= \"kusha\"\n",
        "print(name1, name2)"
      ],
      "metadata": {
        "colab": {
          "base_uri": "https://localhost:8080/"
        },
        "id": "XVh0kTv9jbap",
        "outputId": "8a01f5d4-8095-4612-dd03-87804355f452"
      },
      "execution_count": 108,
      "outputs": [
        {
          "output_type": "stream",
          "name": "stdout",
          "text": [
            "alex kusha\n"
          ]
        }
      ]
    },
    {
      "cell_type": "code",
      "source": [
        "def name_gen(first_name, last_name, title = \"Sir.\", middle_name=\"\"):\n",
        "  \"\"\"Generates name\"\"\"\n",
        "  def capitalize(s):\n",
        "    nonlocal s\n",
        "    if len(s)<2 :\n",
        "      s = s.upper()\n",
        "    else:\n",
        "      s = s.upper()[0] + s.lower()[1:]\n",
        "  name = f\"{title} {first_name} {middle_name} {last_name}\"\n",
        "\n",
        "\n",
        "  return name       "
      ],
      "metadata": {
        "colab": {
          "base_uri": "https://localhost:8080/",
          "height": 130
        },
        "id": "3rQsPrqijbdC",
        "outputId": "b0f2a4f9-9b0a-4795-b8f6-ec88f38baa4e"
      },
      "execution_count": 120,
      "outputs": [
        {
          "output_type": "error",
          "ename": "SyntaxError",
          "evalue": "ignored",
          "traceback": [
            "\u001b[0;36m  File \u001b[0;32m\"<ipython-input-120-4c6769fc954c>\"\u001b[0;36m, line \u001b[0;32m4\u001b[0m\n\u001b[0;31m    nonlocal s\u001b[0m\n\u001b[0m    ^\u001b[0m\n\u001b[0;31mSyntaxError\u001b[0m\u001b[0;31m:\u001b[0m name 's' is parameter and nonlocal\n"
          ]
        }
      ]
    },
    {
      "cell_type": "code",
      "source": [],
      "metadata": {
        "id": "QXuViY36jbfz"
      },
      "execution_count": null,
      "outputs": []
    },
    {
      "cell_type": "code",
      "source": [],
      "metadata": {
        "id": "DR_-EAUljbhf"
      },
      "execution_count": null,
      "outputs": []
    },
    {
      "cell_type": "code",
      "source": [],
      "metadata": {
        "id": "5eig63QAjbjQ"
      },
      "execution_count": null,
      "outputs": []
    },
    {
      "cell_type": "code",
      "source": [],
      "metadata": {
        "id": "q8nTPUtujblH"
      },
      "execution_count": null,
      "outputs": []
    },
    {
      "cell_type": "code",
      "source": [],
      "metadata": {
        "id": "tfFbXd5zjbnQ"
      },
      "execution_count": null,
      "outputs": []
    },
    {
      "cell_type": "code",
      "source": [],
      "metadata": {
        "id": "PszHeUOfjbpK"
      },
      "execution_count": null,
      "outputs": []
    },
    {
      "cell_type": "code",
      "source": [],
      "metadata": {
        "id": "mSPcYnVajbrI"
      },
      "execution_count": null,
      "outputs": []
    },
    {
      "cell_type": "code",
      "source": [],
      "metadata": {
        "id": "lSv076p1jbtC"
      },
      "execution_count": null,
      "outputs": []
    },
    {
      "cell_type": "code",
      "source": [],
      "metadata": {
        "id": "5407RZzhjbu1"
      },
      "execution_count": null,
      "outputs": []
    },
    {
      "cell_type": "code",
      "source": [],
      "metadata": {
        "id": "j_o01GEojbw3"
      },
      "execution_count": null,
      "outputs": []
    }
  ]
}