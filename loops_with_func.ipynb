{
  "nbformat": 4,
  "nbformat_minor": 0,
  "metadata": {
    "colab": {
      "provenance": [],
      "authorship_tag": "ABX9TyOZdLhUcDSPOnb+4O4oFZtD",
      "include_colab_link": true
    },
    "kernelspec": {
      "name": "python3",
      "display_name": "Python 3"
    },
    "language_info": {
      "name": "python"
    }
  },
  "cells": [
    {
      "cell_type": "markdown",
      "metadata": {
        "id": "view-in-github",
        "colab_type": "text"
      },
      "source": [
        "<a href=\"https://colab.research.google.com/github/AhmadNass7/Gisma/blob/main/loops_with_func.ipynb\" target=\"_parent\"><img src=\"https://colab.research.google.com/assets/colab-badge.svg\" alt=\"Open In Colab\"/></a>"
      ]
    },
    {
      "cell_type": "code",
      "execution_count": 1,
      "metadata": {
        "colab": {
          "base_uri": "https://localhost:8080/"
        },
        "id": "Wxl6dUvSc7ZE",
        "outputId": "ed8532f9-840a-4e38-bd15-dcc896c5877d"
      },
      "outputs": [
        {
          "output_type": "stream",
          "name": "stdout",
          "text": [
            "A\n",
            "h\n",
            "m\n",
            "a\n",
            "d\n",
            " \n",
            "N\n",
            "a\n",
            "s\n",
            "s\n",
            "e\n",
            "r\n"
          ]
        }
      ],
      "source": [
        "name=\"Ahmad Nasser\"\n",
        "\n",
        "for i in name:\n",
        "  print(i)\n"
      ]
    },
    {
      "cell_type": "code",
      "source": [
        "for k in range(1,12,2):\n",
        "  print(k)"
      ],
      "metadata": {
        "colab": {
          "base_uri": "https://localhost:8080/"
        },
        "id": "zxMYCxpdhNo-",
        "outputId": "5b206bac-7217-4b18-c2cb-52c2250ae735"
      },
      "execution_count": 2,
      "outputs": [
        {
          "output_type": "stream",
          "name": "stdout",
          "text": [
            "1\n",
            "3\n",
            "5\n",
            "7\n",
            "9\n",
            "11\n"
          ]
        }
      ]
    },
    {
      "cell_type": "code",
      "source": [
        "i= int(input(\"Enter a number:\"))\n",
        "while(i<=38):\n",
        "  i= int(input(\"Enter a number:\"))\n",
        "  print(i)\n",
        "\n",
        "\n",
        "print(\"Done with loop\") \n"
      ],
      "metadata": {
        "colab": {
          "base_uri": "https://localhost:8080/"
        },
        "id": "7CRY1OxohgSG",
        "outputId": "e4e71969-c04b-46ff-ea11-1b1f666fd39c"
      },
      "execution_count": 4,
      "outputs": [
        {
          "output_type": "stream",
          "name": "stdout",
          "text": [
            "Enter a number:20\n",
            "Enter a number:39\n",
            "39\n",
            "Done with loop\n"
          ]
        }
      ]
    },
    {
      "cell_type": "code",
      "source": [
        "count= 5\n",
        "while(count>5):\n",
        "  count=count+1\n",
        "  print(count)"
      ],
      "metadata": {
        "id": "sodpEfFKmKlN"
      },
      "execution_count": 5,
      "outputs": []
    },
    {
      "cell_type": "code",
      "source": [
        "i= 0\n",
        "while(i<3):\n",
        "  i= i+1\n",
        "  print(i)\n",
        "print(\"Done with loop\")  "
      ],
      "metadata": {
        "colab": {
          "base_uri": "https://localhost:8080/"
        },
        "id": "HCAEX6LOnAGo",
        "outputId": "751f971d-56c6-43dc-e76b-2e94d47f571e"
      },
      "execution_count": 6,
      "outputs": [
        {
          "output_type": "stream",
          "name": "stdout",
          "text": [
            "1\n",
            "2\n",
            "3\n",
            "Done with loop\n"
          ]
        }
      ]
    },
    {
      "cell_type": "code",
      "source": [
        "i= 3\n",
        "while(i<=3):\n",
        "  i= i+1\n",
        "  print(i)\n",
        "print(\"Done with loop\") "
      ],
      "metadata": {
        "colab": {
          "base_uri": "https://localhost:8080/"
        },
        "id": "U6Zm6iLtndoV",
        "outputId": "8e4c8656-0a0d-46e8-a3ca-cc3d85f5e1b9"
      },
      "execution_count": 7,
      "outputs": [
        {
          "output_type": "stream",
          "name": "stdout",
          "text": [
            "4\n",
            "Done with loop\n"
          ]
        }
      ]
    },
    {
      "cell_type": "code",
      "source": [
        " i= int(input(\"enter a number\"))\n",
        " \n",
        "while(i<=3):\n",
        "  i= int(input(\"enter a number\"))\n",
        "  i= i+1\n",
        "  print(i)\n",
        "\n",
        "print(\"you gained my heart \")  "
      ],
      "metadata": {
        "colab": {
          "base_uri": "https://localhost:8080/",
          "height": 252
        },
        "id": "Gi6725jboUYF",
        "outputId": "d17dd673-2f30-4268-d1f6-4ad62ec6dd91"
      },
      "execution_count": 9,
      "outputs": [
        {
          "name": "stdout",
          "output_type": "stream",
          "text": [
            "enter a number\n"
          ]
        },
        {
          "output_type": "error",
          "ename": "ValueError",
          "evalue": "ignored",
          "traceback": [
            "\u001b[0;31m---------------------------------------------------------------------------\u001b[0m",
            "\u001b[0;31mValueError\u001b[0m                                Traceback (most recent call last)",
            "\u001b[0;32m<ipython-input-9-d3c7b5ae3d63>\u001b[0m in \u001b[0;36m<module>\u001b[0;34m\u001b[0m\n\u001b[0;32m----> 1\u001b[0;31m \u001b[0mi\u001b[0m\u001b[0;34m=\u001b[0m \u001b[0mint\u001b[0m\u001b[0;34m(\u001b[0m\u001b[0minput\u001b[0m\u001b[0;34m(\u001b[0m\u001b[0;34m\"enter a number\"\u001b[0m\u001b[0;34m)\u001b[0m\u001b[0;34m)\u001b[0m\u001b[0;34m\u001b[0m\u001b[0;34m\u001b[0m\u001b[0m\n\u001b[0m\u001b[1;32m      2\u001b[0m \u001b[0;34m\u001b[0m\u001b[0m\n\u001b[1;32m      3\u001b[0m \u001b[0;32mwhile\u001b[0m\u001b[0;34m(\u001b[0m\u001b[0mi\u001b[0m\u001b[0;34m<=\u001b[0m\u001b[0;36m3\u001b[0m\u001b[0;34m)\u001b[0m\u001b[0;34m:\u001b[0m\u001b[0;34m\u001b[0m\u001b[0;34m\u001b[0m\u001b[0m\n\u001b[1;32m      4\u001b[0m  \u001b[0mi\u001b[0m\u001b[0;34m=\u001b[0m \u001b[0mint\u001b[0m\u001b[0;34m(\u001b[0m\u001b[0minput\u001b[0m\u001b[0;34m(\u001b[0m\u001b[0;34m\"enter a number\"\u001b[0m\u001b[0;34m)\u001b[0m\u001b[0;34m)\u001b[0m\u001b[0;34m\u001b[0m\u001b[0;34m\u001b[0m\u001b[0m\n\u001b[1;32m      5\u001b[0m  \u001b[0mi\u001b[0m\u001b[0;34m=\u001b[0m \u001b[0mi\u001b[0m\u001b[0;34m+\u001b[0m\u001b[0;36m1\u001b[0m\u001b[0;34m\u001b[0m\u001b[0;34m\u001b[0m\u001b[0m\n",
            "\u001b[0;31mValueError\u001b[0m: invalid literal for int() with base 10: ''"
          ]
        }
      ]
    },
    {
      "cell_type": "code",
      "source": [
        "count= 5\n",
        "while(count>0):\n",
        "  print(count)\n",
        "  count= count-1\n",
        "\n",
        "else:\n",
        "  print(\"I am inside\")  "
      ],
      "metadata": {
        "id": "0-toUkkLpZsi"
      },
      "execution_count": null,
      "outputs": []
    },
    {
      "cell_type": "code",
      "source": [
        "count= 5\n",
        "while(count>0):\n",
        "  print(count)\n",
        "  count= count-1"
      ],
      "metadata": {
        "colab": {
          "base_uri": "https://localhost:8080/"
        },
        "id": "0hafbyUzqEr1",
        "outputId": "a87644a6-9f91-496e-e4cc-c8589d901b69"
      },
      "execution_count": 10,
      "outputs": [
        {
          "output_type": "stream",
          "name": "stdout",
          "text": [
            "5\n",
            "4\n",
            "3\n",
            "2\n",
            "1\n"
          ]
        }
      ]
    },
    {
      "cell_type": "code",
      "source": [
        "for i in range(12):\n",
        "  print(\"5X\",i,\"=\",5*i+1)\n",
        "  print(i)"
      ],
      "metadata": {
        "colab": {
          "base_uri": "https://localhost:8080/"
        },
        "id": "FtWp12WMqK19",
        "outputId": "6f35c513-f45f-4c89-c5a9-0bf7df32e107"
      },
      "execution_count": 11,
      "outputs": [
        {
          "output_type": "stream",
          "name": "stdout",
          "text": [
            "5X 0 = 1\n",
            "0\n",
            "5X 1 = 6\n",
            "1\n",
            "5X 2 = 11\n",
            "2\n",
            "5X 3 = 16\n",
            "3\n",
            "5X 4 = 21\n",
            "4\n",
            "5X 5 = 26\n",
            "5\n",
            "5X 6 = 31\n",
            "6\n",
            "5X 7 = 36\n",
            "7\n",
            "5X 8 = 41\n",
            "8\n",
            "5X 9 = 46\n",
            "9\n",
            "5X 10 = 51\n",
            "10\n",
            "5X 11 = 56\n",
            "11\n"
          ]
        }
      ]
    },
    {
      "cell_type": "code",
      "source": [
        "for i in range(12):\n",
        "  if(i==10):\n",
        "    print(\"nyeke nyeke nyeke\")\n",
        "    continue\n",
        "    \n",
        "\n",
        "\n",
        "\n",
        "print(\"5X\",i,\"=\",5*i)"
      ],
      "metadata": {
        "colab": {
          "base_uri": "https://localhost:8080/"
        },
        "id": "KOY5PI37s31V",
        "outputId": "3c3a2f62-2e29-4f76-e2aa-4da33feac4bf"
      },
      "execution_count": 12,
      "outputs": [
        {
          "output_type": "stream",
          "name": "stdout",
          "text": [
            "nyeke nyeke nyeke\n",
            "5X 11 = 55\n"
          ]
        }
      ]
    },
    {
      "cell_type": "code",
      "source": [
        "a= 9\n",
        "b= 8\n",
        "def  calculateGmean(a,b):\n",
        "  mean=(a*b)/(a+b)\n",
        "  print(mean)"
      ],
      "metadata": {
        "id": "8vGa1sTWu_7S"
      },
      "execution_count": 13,
      "outputs": []
    },
    {
      "cell_type": "code",
      "source": [
        "a= 17\n",
        "b= -2\n",
        "\n",
        "def isGreater(a,b):\n",
        "  if(a>b):\n",
        "    print(\"the first number is greater\")\n",
        "  else:\n",
        "    print(\"The second number is greater or equal\")"
      ],
      "metadata": {
        "id": "vl3-FALG-8O8"
      },
      "execution_count": 14,
      "outputs": []
    },
    {
      "cell_type": "code",
      "source": [
        "def average(*numbers):\n",
        "  sum= 0\n",
        "  for i in numbers:\n",
        "    sum=sum +i\n",
        "    print(\"the sum of number is:\",sum/len(numbers))\n",
        "\n",
        "\n",
        "average(2,8)    \n",
        "\n",
        "\n",
        "\n"
      ],
      "metadata": {
        "colab": {
          "base_uri": "https://localhost:8080/"
        },
        "id": "yn_sWC-F_hXu",
        "outputId": "be12af33-6df9-4410-e2f2-de2d1104c9e2"
      },
      "execution_count": 15,
      "outputs": [
        {
          "output_type": "stream",
          "name": "stdout",
          "text": [
            "the sum of number is: 1.0\n",
            "the sum of number is: 5.0\n"
          ]
        }
      ]
    },
    {
      "cell_type": "code",
      "source": [
        "name= \"numbers\"\n",
        "\n",
        "len(name)"
      ],
      "metadata": {
        "colab": {
          "base_uri": "https://localhost:8080/"
        },
        "id": "wKCJtmYYDXAw",
        "outputId": "93da9f34-27b3-428a-f50d-4d8eaa6e4c25"
      },
      "execution_count": 16,
      "outputs": [
        {
          "output_type": "execute_result",
          "data": {
            "text/plain": [
              "7"
            ]
          },
          "metadata": {},
          "execution_count": 16
        }
      ]
    },
    {
      "cell_type": "code",
      "source": [
        "name= \"numbers\"\n",
        "for i in name:\n",
        "  print(name)"
      ],
      "metadata": {
        "colab": {
          "base_uri": "https://localhost:8080/"
        },
        "id": "G7_wxp_sDvvp",
        "outputId": "219840a8-19de-4ae3-9800-7099413fd7f5"
      },
      "execution_count": 17,
      "outputs": [
        {
          "output_type": "stream",
          "name": "stdout",
          "text": [
            "numbers\n",
            "numbers\n",
            "numbers\n",
            "numbers\n",
            "numbers\n",
            "numbers\n",
            "numbers\n"
          ]
        }
      ]
    },
    {
      "cell_type": "code",
      "source": [
        "def name(**name):\n",
        "  name(first_name=\"Ahmad\",last_name=\"Nasser\")\n",
        "  print()\n",
        "print(\"hello\",name)"
      ],
      "metadata": {
        "colab": {
          "base_uri": "https://localhost:8080/"
        },
        "id": "CJKsf_CXEtPf",
        "outputId": "fe5d7737-3a11-4ecb-f1ec-30b1bc149c7e"
      },
      "execution_count": 23,
      "outputs": [
        {
          "output_type": "stream",
          "name": "stdout",
          "text": [
            "hello <function name at 0x7f492f33f790>\n"
          ]
        }
      ]
    },
    {
      "cell_type": "code",
      "source": [],
      "metadata": {
        "id": "gihci10fKu8O"
      },
      "execution_count": 18,
      "outputs": []
    }
  ]
}